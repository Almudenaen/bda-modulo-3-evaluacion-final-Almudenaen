{
 "cells": [
  {
   "cell_type": "markdown",
   "id": "b09895ea",
   "metadata": {},
   "source": [
    "# **DA Módulo 3: Ejercicio de evaluación final**\n"
   ]
  },
  {
   "cell_type": "markdown",
   "id": "4ddde513",
   "metadata": {},
   "source": [
    "## Fase 1: Exploración y Limpieza"
   ]
  },
  {
   "cell_type": "markdown",
   "id": "d1fbef1d",
   "metadata": {},
   "source": [
    "### 1. Exploración Inicial:\n"
   ]
  },
  {
   "cell_type": "markdown",
   "id": "03e74ab7",
   "metadata": {},
   "source": [
    "Configuración inicial y carga de datos:\n",
    "\n",
    "```python"
   ]
  },
  {
   "cell_type": "code",
   "execution_count": 1,
   "id": "bece8992",
   "metadata": {},
   "outputs": [],
   "source": [
    "#Importación de librerías\n",
    "import pandas as pd\n",
    "import numpy as np "
   ]
  },
  {
   "cell_type": "code",
   "execution_count": 2,
   "id": "56a6f477",
   "metadata": {},
   "outputs": [],
   "source": [
    "#Configuración de la visualización del DataFrame\n",
    "pd.set_option('display.max_rows', None)\n",
    "pd.set_option('display.max_columns', None)"
   ]
  },
  {
   "cell_type": "code",
   "execution_count": 3,
   "id": "ca24fc72",
   "metadata": {},
   "outputs": [],
   "source": [
    "# Lectura de archivos CSV y transformación a DataFrame (df)\n",
    "df_fa = pd.read_csv(\"Customer Flight Activity.csv\", index_col = 0)\n",
    "df_lh = pd.read_csv(\"Customer Loyalty History.csv\", index_col = 0)"
   ]
  },
  {
   "cell_type": "code",
   "execution_count": 4,
   "id": "2eee323e",
   "metadata": {},
   "outputs": [
    {
     "data": {
      "application/vnd.microsoft.datawrangler.viewer.v0+json": {
       "columns": [
        {
         "name": "Loyalty Number",
         "rawType": "int64",
         "type": "integer"
        },
        {
         "name": "Year",
         "rawType": "int64",
         "type": "integer"
        },
        {
         "name": "Month",
         "rawType": "int64",
         "type": "integer"
        },
        {
         "name": "Flights Booked",
         "rawType": "int64",
         "type": "integer"
        },
        {
         "name": "Flights with Companions",
         "rawType": "int64",
         "type": "integer"
        },
        {
         "name": "Total Flights",
         "rawType": "int64",
         "type": "integer"
        },
        {
         "name": "Distance",
         "rawType": "int64",
         "type": "integer"
        },
        {
         "name": "Points Accumulated",
         "rawType": "float64",
         "type": "float"
        },
        {
         "name": "Points Redeemed",
         "rawType": "int64",
         "type": "integer"
        },
        {
         "name": "Dollar Cost Points Redeemed",
         "rawType": "int64",
         "type": "integer"
        }
       ],
       "ref": "e6f359da-7f86-499a-85c7-66f1753a63c9",
       "rows": [
        [
         "100018",
         "2017",
         "1",
         "3",
         "0",
         "3",
         "1521",
         "152.0",
         "0",
         "0"
        ],
        [
         "100102",
         "2017",
         "1",
         "10",
         "4",
         "14",
         "2030",
         "203.0",
         "0",
         "0"
        ],
        [
         "100140",
         "2017",
         "1",
         "6",
         "0",
         "6",
         "1200",
         "120.0",
         "0",
         "0"
        ],
        [
         "100214",
         "2017",
         "1",
         "0",
         "0",
         "0",
         "0",
         "0.0",
         "0",
         "0"
        ],
        [
         "100272",
         "2017",
         "1",
         "0",
         "0",
         "0",
         "0",
         "0.0",
         "0",
         "0"
        ]
       ],
       "shape": {
        "columns": 9,
        "rows": 5
       }
      },
      "text/html": [
       "<div>\n",
       "<style scoped>\n",
       "    .dataframe tbody tr th:only-of-type {\n",
       "        vertical-align: middle;\n",
       "    }\n",
       "\n",
       "    .dataframe tbody tr th {\n",
       "        vertical-align: top;\n",
       "    }\n",
       "\n",
       "    .dataframe thead th {\n",
       "        text-align: right;\n",
       "    }\n",
       "</style>\n",
       "<table border=\"1\" class=\"dataframe\">\n",
       "  <thead>\n",
       "    <tr style=\"text-align: right;\">\n",
       "      <th></th>\n",
       "      <th>Year</th>\n",
       "      <th>Month</th>\n",
       "      <th>Flights Booked</th>\n",
       "      <th>Flights with Companions</th>\n",
       "      <th>Total Flights</th>\n",
       "      <th>Distance</th>\n",
       "      <th>Points Accumulated</th>\n",
       "      <th>Points Redeemed</th>\n",
       "      <th>Dollar Cost Points Redeemed</th>\n",
       "    </tr>\n",
       "    <tr>\n",
       "      <th>Loyalty Number</th>\n",
       "      <th></th>\n",
       "      <th></th>\n",
       "      <th></th>\n",
       "      <th></th>\n",
       "      <th></th>\n",
       "      <th></th>\n",
       "      <th></th>\n",
       "      <th></th>\n",
       "      <th></th>\n",
       "    </tr>\n",
       "  </thead>\n",
       "  <tbody>\n",
       "    <tr>\n",
       "      <th>100018</th>\n",
       "      <td>2017</td>\n",
       "      <td>1</td>\n",
       "      <td>3</td>\n",
       "      <td>0</td>\n",
       "      <td>3</td>\n",
       "      <td>1521</td>\n",
       "      <td>152.0</td>\n",
       "      <td>0</td>\n",
       "      <td>0</td>\n",
       "    </tr>\n",
       "    <tr>\n",
       "      <th>100102</th>\n",
       "      <td>2017</td>\n",
       "      <td>1</td>\n",
       "      <td>10</td>\n",
       "      <td>4</td>\n",
       "      <td>14</td>\n",
       "      <td>2030</td>\n",
       "      <td>203.0</td>\n",
       "      <td>0</td>\n",
       "      <td>0</td>\n",
       "    </tr>\n",
       "    <tr>\n",
       "      <th>100140</th>\n",
       "      <td>2017</td>\n",
       "      <td>1</td>\n",
       "      <td>6</td>\n",
       "      <td>0</td>\n",
       "      <td>6</td>\n",
       "      <td>1200</td>\n",
       "      <td>120.0</td>\n",
       "      <td>0</td>\n",
       "      <td>0</td>\n",
       "    </tr>\n",
       "    <tr>\n",
       "      <th>100214</th>\n",
       "      <td>2017</td>\n",
       "      <td>1</td>\n",
       "      <td>0</td>\n",
       "      <td>0</td>\n",
       "      <td>0</td>\n",
       "      <td>0</td>\n",
       "      <td>0.0</td>\n",
       "      <td>0</td>\n",
       "      <td>0</td>\n",
       "    </tr>\n",
       "    <tr>\n",
       "      <th>100272</th>\n",
       "      <td>2017</td>\n",
       "      <td>1</td>\n",
       "      <td>0</td>\n",
       "      <td>0</td>\n",
       "      <td>0</td>\n",
       "      <td>0</td>\n",
       "      <td>0.0</td>\n",
       "      <td>0</td>\n",
       "      <td>0</td>\n",
       "    </tr>\n",
       "  </tbody>\n",
       "</table>\n",
       "</div>"
      ],
      "text/plain": [
       "                Year  Month  Flights Booked  Flights with Companions  \\\n",
       "Loyalty Number                                                         \n",
       "100018          2017      1               3                        0   \n",
       "100102          2017      1              10                        4   \n",
       "100140          2017      1               6                        0   \n",
       "100214          2017      1               0                        0   \n",
       "100272          2017      1               0                        0   \n",
       "\n",
       "                Total Flights  Distance  Points Accumulated  Points Redeemed  \\\n",
       "Loyalty Number                                                                 \n",
       "100018                      3      1521               152.0                0   \n",
       "100102                     14      2030               203.0                0   \n",
       "100140                      6      1200               120.0                0   \n",
       "100214                      0         0                 0.0                0   \n",
       "100272                      0         0                 0.0                0   \n",
       "\n",
       "                Dollar Cost Points Redeemed  \n",
       "Loyalty Number                               \n",
       "100018                                    0  \n",
       "100102                                    0  \n",
       "100140                                    0  \n",
       "100214                                    0  \n",
       "100272                                    0  "
      ]
     },
     "execution_count": 4,
     "metadata": {},
     "output_type": "execute_result"
    }
   ],
   "source": [
    "df_fa.head()"
   ]
  },
  {
   "cell_type": "code",
   "execution_count": 5,
   "id": "d7a4d928",
   "metadata": {},
   "outputs": [
    {
     "data": {
      "application/vnd.microsoft.datawrangler.viewer.v0+json": {
       "columns": [
        {
         "name": "Loyalty Number",
         "rawType": "int64",
         "type": "integer"
        },
        {
         "name": "Country",
         "rawType": "object",
         "type": "string"
        },
        {
         "name": "Province",
         "rawType": "object",
         "type": "string"
        },
        {
         "name": "City",
         "rawType": "object",
         "type": "string"
        },
        {
         "name": "Postal Code",
         "rawType": "object",
         "type": "string"
        },
        {
         "name": "Gender",
         "rawType": "object",
         "type": "string"
        },
        {
         "name": "Education",
         "rawType": "object",
         "type": "string"
        },
        {
         "name": "Salary",
         "rawType": "float64",
         "type": "float"
        },
        {
         "name": "Marital Status",
         "rawType": "object",
         "type": "string"
        },
        {
         "name": "Loyalty Card",
         "rawType": "object",
         "type": "string"
        },
        {
         "name": "CLV",
         "rawType": "float64",
         "type": "float"
        },
        {
         "name": "Enrollment Type",
         "rawType": "object",
         "type": "string"
        },
        {
         "name": "Enrollment Year",
         "rawType": "int64",
         "type": "integer"
        },
        {
         "name": "Enrollment Month",
         "rawType": "int64",
         "type": "integer"
        },
        {
         "name": "Cancellation Year",
         "rawType": "float64",
         "type": "float"
        },
        {
         "name": "Cancellation Month",
         "rawType": "float64",
         "type": "float"
        }
       ],
       "ref": "03ff768a-786c-4fb6-9ccd-1a85c53177c4",
       "rows": [
        [
         "480934",
         "Canada",
         "Ontario",
         "Toronto",
         "M2Z 4K1",
         "Female",
         "Bachelor",
         "83236.0",
         "Married",
         "Star",
         "3839.14",
         "Standard",
         "2016",
         "2",
         null,
         null
        ],
        [
         "549612",
         "Canada",
         "Alberta",
         "Edmonton",
         "T3G 6Y6",
         "Male",
         "College",
         null,
         "Divorced",
         "Star",
         "3839.61",
         "Standard",
         "2016",
         "3",
         null,
         null
        ],
        [
         "429460",
         "Canada",
         "British Columbia",
         "Vancouver",
         "V6E 3D9",
         "Male",
         "College",
         null,
         "Single",
         "Star",
         "3839.75",
         "Standard",
         "2014",
         "7",
         "2018.0",
         "1.0"
        ],
        [
         "608370",
         "Canada",
         "Ontario",
         "Toronto",
         "P1W 1K4",
         "Male",
         "College",
         null,
         "Single",
         "Star",
         "3839.75",
         "Standard",
         "2013",
         "2",
         null,
         null
        ],
        [
         "530508",
         "Canada",
         "Quebec",
         "Hull",
         "J8Y 3Z5",
         "Male",
         "Bachelor",
         "103495.0",
         "Married",
         "Star",
         "3842.79",
         "Standard",
         "2014",
         "10",
         null,
         null
        ]
       ],
       "shape": {
        "columns": 15,
        "rows": 5
       }
      },
      "text/html": [
       "<div>\n",
       "<style scoped>\n",
       "    .dataframe tbody tr th:only-of-type {\n",
       "        vertical-align: middle;\n",
       "    }\n",
       "\n",
       "    .dataframe tbody tr th {\n",
       "        vertical-align: top;\n",
       "    }\n",
       "\n",
       "    .dataframe thead th {\n",
       "        text-align: right;\n",
       "    }\n",
       "</style>\n",
       "<table border=\"1\" class=\"dataframe\">\n",
       "  <thead>\n",
       "    <tr style=\"text-align: right;\">\n",
       "      <th></th>\n",
       "      <th>Country</th>\n",
       "      <th>Province</th>\n",
       "      <th>City</th>\n",
       "      <th>Postal Code</th>\n",
       "      <th>Gender</th>\n",
       "      <th>Education</th>\n",
       "      <th>Salary</th>\n",
       "      <th>Marital Status</th>\n",
       "      <th>Loyalty Card</th>\n",
       "      <th>CLV</th>\n",
       "      <th>Enrollment Type</th>\n",
       "      <th>Enrollment Year</th>\n",
       "      <th>Enrollment Month</th>\n",
       "      <th>Cancellation Year</th>\n",
       "      <th>Cancellation Month</th>\n",
       "    </tr>\n",
       "    <tr>\n",
       "      <th>Loyalty Number</th>\n",
       "      <th></th>\n",
       "      <th></th>\n",
       "      <th></th>\n",
       "      <th></th>\n",
       "      <th></th>\n",
       "      <th></th>\n",
       "      <th></th>\n",
       "      <th></th>\n",
       "      <th></th>\n",
       "      <th></th>\n",
       "      <th></th>\n",
       "      <th></th>\n",
       "      <th></th>\n",
       "      <th></th>\n",
       "      <th></th>\n",
       "    </tr>\n",
       "  </thead>\n",
       "  <tbody>\n",
       "    <tr>\n",
       "      <th>480934</th>\n",
       "      <td>Canada</td>\n",
       "      <td>Ontario</td>\n",
       "      <td>Toronto</td>\n",
       "      <td>M2Z 4K1</td>\n",
       "      <td>Female</td>\n",
       "      <td>Bachelor</td>\n",
       "      <td>83236.0</td>\n",
       "      <td>Married</td>\n",
       "      <td>Star</td>\n",
       "      <td>3839.14</td>\n",
       "      <td>Standard</td>\n",
       "      <td>2016</td>\n",
       "      <td>2</td>\n",
       "      <td>NaN</td>\n",
       "      <td>NaN</td>\n",
       "    </tr>\n",
       "    <tr>\n",
       "      <th>549612</th>\n",
       "      <td>Canada</td>\n",
       "      <td>Alberta</td>\n",
       "      <td>Edmonton</td>\n",
       "      <td>T3G 6Y6</td>\n",
       "      <td>Male</td>\n",
       "      <td>College</td>\n",
       "      <td>NaN</td>\n",
       "      <td>Divorced</td>\n",
       "      <td>Star</td>\n",
       "      <td>3839.61</td>\n",
       "      <td>Standard</td>\n",
       "      <td>2016</td>\n",
       "      <td>3</td>\n",
       "      <td>NaN</td>\n",
       "      <td>NaN</td>\n",
       "    </tr>\n",
       "    <tr>\n",
       "      <th>429460</th>\n",
       "      <td>Canada</td>\n",
       "      <td>British Columbia</td>\n",
       "      <td>Vancouver</td>\n",
       "      <td>V6E 3D9</td>\n",
       "      <td>Male</td>\n",
       "      <td>College</td>\n",
       "      <td>NaN</td>\n",
       "      <td>Single</td>\n",
       "      <td>Star</td>\n",
       "      <td>3839.75</td>\n",
       "      <td>Standard</td>\n",
       "      <td>2014</td>\n",
       "      <td>7</td>\n",
       "      <td>2018.0</td>\n",
       "      <td>1.0</td>\n",
       "    </tr>\n",
       "    <tr>\n",
       "      <th>608370</th>\n",
       "      <td>Canada</td>\n",
       "      <td>Ontario</td>\n",
       "      <td>Toronto</td>\n",
       "      <td>P1W 1K4</td>\n",
       "      <td>Male</td>\n",
       "      <td>College</td>\n",
       "      <td>NaN</td>\n",
       "      <td>Single</td>\n",
       "      <td>Star</td>\n",
       "      <td>3839.75</td>\n",
       "      <td>Standard</td>\n",
       "      <td>2013</td>\n",
       "      <td>2</td>\n",
       "      <td>NaN</td>\n",
       "      <td>NaN</td>\n",
       "    </tr>\n",
       "    <tr>\n",
       "      <th>530508</th>\n",
       "      <td>Canada</td>\n",
       "      <td>Quebec</td>\n",
       "      <td>Hull</td>\n",
       "      <td>J8Y 3Z5</td>\n",
       "      <td>Male</td>\n",
       "      <td>Bachelor</td>\n",
       "      <td>103495.0</td>\n",
       "      <td>Married</td>\n",
       "      <td>Star</td>\n",
       "      <td>3842.79</td>\n",
       "      <td>Standard</td>\n",
       "      <td>2014</td>\n",
       "      <td>10</td>\n",
       "      <td>NaN</td>\n",
       "      <td>NaN</td>\n",
       "    </tr>\n",
       "  </tbody>\n",
       "</table>\n",
       "</div>"
      ],
      "text/plain": [
       "               Country          Province       City Postal Code  Gender  \\\n",
       "Loyalty Number                                                            \n",
       "480934          Canada           Ontario    Toronto     M2Z 4K1  Female   \n",
       "549612          Canada           Alberta   Edmonton     T3G 6Y6    Male   \n",
       "429460          Canada  British Columbia  Vancouver     V6E 3D9    Male   \n",
       "608370          Canada           Ontario    Toronto     P1W 1K4    Male   \n",
       "530508          Canada            Quebec       Hull     J8Y 3Z5    Male   \n",
       "\n",
       "               Education    Salary Marital Status Loyalty Card      CLV  \\\n",
       "Loyalty Number                                                            \n",
       "480934          Bachelor   83236.0        Married         Star  3839.14   \n",
       "549612           College       NaN       Divorced         Star  3839.61   \n",
       "429460           College       NaN         Single         Star  3839.75   \n",
       "608370           College       NaN         Single         Star  3839.75   \n",
       "530508          Bachelor  103495.0        Married         Star  3842.79   \n",
       "\n",
       "               Enrollment Type  Enrollment Year  Enrollment Month  \\\n",
       "Loyalty Number                                                      \n",
       "480934                Standard             2016                 2   \n",
       "549612                Standard             2016                 3   \n",
       "429460                Standard             2014                 7   \n",
       "608370                Standard             2013                 2   \n",
       "530508                Standard             2014                10   \n",
       "\n",
       "                Cancellation Year  Cancellation Month  \n",
       "Loyalty Number                                         \n",
       "480934                        NaN                 NaN  \n",
       "549612                        NaN                 NaN  \n",
       "429460                     2018.0                 1.0  \n",
       "608370                        NaN                 NaN  \n",
       "530508                        NaN                 NaN  "
      ]
     },
     "execution_count": 5,
     "metadata": {},
     "output_type": "execute_result"
    }
   ],
   "source": [
    "df_lh.head()"
   ]
  },
  {
   "cell_type": "markdown",
   "id": "4c927042",
   "metadata": {},
   "source": [
    "Exploratory Data Analysis (EDA): \n",
    "- identificación de patrones y tendencias\n",
    "- detección de valores nulos, atípicos o faltantes\n",
    "- visualización de estadísticas básicas"
   ]
  },
  {
   "cell_type": "code",
   "execution_count": 6,
   "id": "9b4bee92",
   "metadata": {},
   "outputs": [],
   "source": [
    "# Exploratory Data Analysis (EDA):\n",
    "# Examinar y visualizar los datos de manera sistemática con el objetivo de descubrir patrones,\n",
    "# identificar tendencias, detectar valores atípicos y extraer información relevante.\n",
    "\n",
    "def eda_basico(df):\n",
    "    print(\"🔍 Primeras filas del DataFrame:\")\n",
    "    display(df.head())\n",
    "    print(\"📐 Dimensiones:\")\n",
    "    print(df.shape , \"\\n\")\n",
    "    print(\"🧠 Información general:\")\n",
    "    display(df.info())\n",
    "    print('🌑Nombre de las columnas:')\n",
    "    display(df.columns)\n",
    "    print(\"📊 Tipos de datos por columna:\")\n",
    "    print(df.dtypes, \"\\n\")\n",
    "    print(\"📉 Descripción de columnas numéricas:\")\n",
    "    display(df.describe())\n",
    "    print(\"🔤 Descripción de columnas categóricas:\")\n",
    "    if any(df.dtypes == 'O'):\n",
    "        display(df.describe(include=['O']))\n",
    "    print(\"🚫 Valores nulos por columna:\")\n",
    "    display(df.isnull().sum())\n",
    "    print(\"📎 Filas duplicadas:\")\n",
    "    dup_count = df.duplicated().sum()\n",
    "    print(f\"Duplicadas: {dup_count}\")\n",
    "    if dup_count > 0:\n",
    "        print(\"Ejemplo de duplicados:\")\n",
    "        print(df[df.duplicated()].head(), \"\\n\")\n",
    "    else:\n",
    "        print(\"No hay filas duplicadas.\\n\")"
   ]
  },
  {
   "cell_type": "code",
   "execution_count": 7,
   "id": "0629ddcf",
   "metadata": {},
   "outputs": [
    {
     "name": "stdout",
     "output_type": "stream",
     "text": [
      "🔍 Primeras filas del DataFrame:\n"
     ]
    },
    {
     "data": {
      "application/vnd.microsoft.datawrangler.viewer.v0+json": {
       "columns": [
        {
         "name": "Loyalty Number",
         "rawType": "int64",
         "type": "integer"
        },
        {
         "name": "Year",
         "rawType": "int64",
         "type": "integer"
        },
        {
         "name": "Month",
         "rawType": "int64",
         "type": "integer"
        },
        {
         "name": "Flights Booked",
         "rawType": "int64",
         "type": "integer"
        },
        {
         "name": "Flights with Companions",
         "rawType": "int64",
         "type": "integer"
        },
        {
         "name": "Total Flights",
         "rawType": "int64",
         "type": "integer"
        },
        {
         "name": "Distance",
         "rawType": "int64",
         "type": "integer"
        },
        {
         "name": "Points Accumulated",
         "rawType": "float64",
         "type": "float"
        },
        {
         "name": "Points Redeemed",
         "rawType": "int64",
         "type": "integer"
        },
        {
         "name": "Dollar Cost Points Redeemed",
         "rawType": "int64",
         "type": "integer"
        }
       ],
       "ref": "485a68b5-2c7d-49fb-ac4d-c7358500a2b0",
       "rows": [
        [
         "100018",
         "2017",
         "1",
         "3",
         "0",
         "3",
         "1521",
         "152.0",
         "0",
         "0"
        ],
        [
         "100102",
         "2017",
         "1",
         "10",
         "4",
         "14",
         "2030",
         "203.0",
         "0",
         "0"
        ],
        [
         "100140",
         "2017",
         "1",
         "6",
         "0",
         "6",
         "1200",
         "120.0",
         "0",
         "0"
        ],
        [
         "100214",
         "2017",
         "1",
         "0",
         "0",
         "0",
         "0",
         "0.0",
         "0",
         "0"
        ],
        [
         "100272",
         "2017",
         "1",
         "0",
         "0",
         "0",
         "0",
         "0.0",
         "0",
         "0"
        ]
       ],
       "shape": {
        "columns": 9,
        "rows": 5
       }
      },
      "text/html": [
       "<div>\n",
       "<style scoped>\n",
       "    .dataframe tbody tr th:only-of-type {\n",
       "        vertical-align: middle;\n",
       "    }\n",
       "\n",
       "    .dataframe tbody tr th {\n",
       "        vertical-align: top;\n",
       "    }\n",
       "\n",
       "    .dataframe thead th {\n",
       "        text-align: right;\n",
       "    }\n",
       "</style>\n",
       "<table border=\"1\" class=\"dataframe\">\n",
       "  <thead>\n",
       "    <tr style=\"text-align: right;\">\n",
       "      <th></th>\n",
       "      <th>Year</th>\n",
       "      <th>Month</th>\n",
       "      <th>Flights Booked</th>\n",
       "      <th>Flights with Companions</th>\n",
       "      <th>Total Flights</th>\n",
       "      <th>Distance</th>\n",
       "      <th>Points Accumulated</th>\n",
       "      <th>Points Redeemed</th>\n",
       "      <th>Dollar Cost Points Redeemed</th>\n",
       "    </tr>\n",
       "    <tr>\n",
       "      <th>Loyalty Number</th>\n",
       "      <th></th>\n",
       "      <th></th>\n",
       "      <th></th>\n",
       "      <th></th>\n",
       "      <th></th>\n",
       "      <th></th>\n",
       "      <th></th>\n",
       "      <th></th>\n",
       "      <th></th>\n",
       "    </tr>\n",
       "  </thead>\n",
       "  <tbody>\n",
       "    <tr>\n",
       "      <th>100018</th>\n",
       "      <td>2017</td>\n",
       "      <td>1</td>\n",
       "      <td>3</td>\n",
       "      <td>0</td>\n",
       "      <td>3</td>\n",
       "      <td>1521</td>\n",
       "      <td>152.0</td>\n",
       "      <td>0</td>\n",
       "      <td>0</td>\n",
       "    </tr>\n",
       "    <tr>\n",
       "      <th>100102</th>\n",
       "      <td>2017</td>\n",
       "      <td>1</td>\n",
       "      <td>10</td>\n",
       "      <td>4</td>\n",
       "      <td>14</td>\n",
       "      <td>2030</td>\n",
       "      <td>203.0</td>\n",
       "      <td>0</td>\n",
       "      <td>0</td>\n",
       "    </tr>\n",
       "    <tr>\n",
       "      <th>100140</th>\n",
       "      <td>2017</td>\n",
       "      <td>1</td>\n",
       "      <td>6</td>\n",
       "      <td>0</td>\n",
       "      <td>6</td>\n",
       "      <td>1200</td>\n",
       "      <td>120.0</td>\n",
       "      <td>0</td>\n",
       "      <td>0</td>\n",
       "    </tr>\n",
       "    <tr>\n",
       "      <th>100214</th>\n",
       "      <td>2017</td>\n",
       "      <td>1</td>\n",
       "      <td>0</td>\n",
       "      <td>0</td>\n",
       "      <td>0</td>\n",
       "      <td>0</td>\n",
       "      <td>0.0</td>\n",
       "      <td>0</td>\n",
       "      <td>0</td>\n",
       "    </tr>\n",
       "    <tr>\n",
       "      <th>100272</th>\n",
       "      <td>2017</td>\n",
       "      <td>1</td>\n",
       "      <td>0</td>\n",
       "      <td>0</td>\n",
       "      <td>0</td>\n",
       "      <td>0</td>\n",
       "      <td>0.0</td>\n",
       "      <td>0</td>\n",
       "      <td>0</td>\n",
       "    </tr>\n",
       "  </tbody>\n",
       "</table>\n",
       "</div>"
      ],
      "text/plain": [
       "                Year  Month  Flights Booked  Flights with Companions  \\\n",
       "Loyalty Number                                                         \n",
       "100018          2017      1               3                        0   \n",
       "100102          2017      1              10                        4   \n",
       "100140          2017      1               6                        0   \n",
       "100214          2017      1               0                        0   \n",
       "100272          2017      1               0                        0   \n",
       "\n",
       "                Total Flights  Distance  Points Accumulated  Points Redeemed  \\\n",
       "Loyalty Number                                                                 \n",
       "100018                      3      1521               152.0                0   \n",
       "100102                     14      2030               203.0                0   \n",
       "100140                      6      1200               120.0                0   \n",
       "100214                      0         0                 0.0                0   \n",
       "100272                      0         0                 0.0                0   \n",
       "\n",
       "                Dollar Cost Points Redeemed  \n",
       "Loyalty Number                               \n",
       "100018                                    0  \n",
       "100102                                    0  \n",
       "100140                                    0  \n",
       "100214                                    0  \n",
       "100272                                    0  "
      ]
     },
     "metadata": {},
     "output_type": "display_data"
    },
    {
     "name": "stdout",
     "output_type": "stream",
     "text": [
      "📐 Dimensiones:\n",
      "(405624, 9) \n",
      "\n",
      "🧠 Información general:\n",
      "<class 'pandas.core.frame.DataFrame'>\n",
      "Index: 405624 entries, 100018 to 999986\n",
      "Data columns (total 9 columns):\n",
      " #   Column                       Non-Null Count   Dtype  \n",
      "---  ------                       --------------   -----  \n",
      " 0   Year                         405624 non-null  int64  \n",
      " 1   Month                        405624 non-null  int64  \n",
      " 2   Flights Booked               405624 non-null  int64  \n",
      " 3   Flights with Companions      405624 non-null  int64  \n",
      " 4   Total Flights                405624 non-null  int64  \n",
      " 5   Distance                     405624 non-null  int64  \n",
      " 6   Points Accumulated           405624 non-null  float64\n",
      " 7   Points Redeemed              405624 non-null  int64  \n",
      " 8   Dollar Cost Points Redeemed  405624 non-null  int64  \n",
      "dtypes: float64(1), int64(8)\n",
      "memory usage: 30.9 MB\n"
     ]
    },
    {
     "data": {
      "text/plain": [
       "None"
      ]
     },
     "metadata": {},
     "output_type": "display_data"
    },
    {
     "name": "stdout",
     "output_type": "stream",
     "text": [
      "🌑Nombre de las columnas:\n"
     ]
    },
    {
     "data": {
      "text/plain": [
       "Index(['Year', 'Month', 'Flights Booked', 'Flights with Companions',\n",
       "       'Total Flights', 'Distance', 'Points Accumulated', 'Points Redeemed',\n",
       "       'Dollar Cost Points Redeemed'],\n",
       "      dtype='object')"
      ]
     },
     "metadata": {},
     "output_type": "display_data"
    },
    {
     "name": "stdout",
     "output_type": "stream",
     "text": [
      "📊 Tipos de datos por columna:\n",
      "Year                             int64\n",
      "Month                            int64\n",
      "Flights Booked                   int64\n",
      "Flights with Companions          int64\n",
      "Total Flights                    int64\n",
      "Distance                         int64\n",
      "Points Accumulated             float64\n",
      "Points Redeemed                  int64\n",
      "Dollar Cost Points Redeemed      int64\n",
      "dtype: object \n",
      "\n",
      "📉 Descripción de columnas numéricas:\n"
     ]
    },
    {
     "data": {
      "application/vnd.microsoft.datawrangler.viewer.v0+json": {
       "columns": [
        {
         "name": "index",
         "rawType": "object",
         "type": "string"
        },
        {
         "name": "Year",
         "rawType": "float64",
         "type": "float"
        },
        {
         "name": "Month",
         "rawType": "float64",
         "type": "float"
        },
        {
         "name": "Flights Booked",
         "rawType": "float64",
         "type": "float"
        },
        {
         "name": "Flights with Companions",
         "rawType": "float64",
         "type": "float"
        },
        {
         "name": "Total Flights",
         "rawType": "float64",
         "type": "float"
        },
        {
         "name": "Distance",
         "rawType": "float64",
         "type": "float"
        },
        {
         "name": "Points Accumulated",
         "rawType": "float64",
         "type": "float"
        },
        {
         "name": "Points Redeemed",
         "rawType": "float64",
         "type": "float"
        },
        {
         "name": "Dollar Cost Points Redeemed",
         "rawType": "float64",
         "type": "float"
        }
       ],
       "ref": "7d046bfa-f497-4a52-b7e4-871f97036e0a",
       "rows": [
        [
         "count",
         "405624.0",
         "405624.0",
         "405624.0",
         "405624.0",
         "405624.0",
         "405624.0",
         "405624.0",
         "405624.0",
         "405624.0"
        ],
        [
         "mean",
         "2017.5",
         "6.5",
         "4.115052363765457",
         "1.031805317239611",
         "5.146857681005069",
         "1208.880058872256",
         "123.69272096818729",
         "30.696871979961738",
         "2.484502889375382"
        ],
        [
         "std",
         "0.5000006163354788",
         "3.4520567847795607",
         "5.225518362156165",
         "2.0768693438648906",
         "6.5212274242571455",
         "1433.1553197944165",
         "146.5998314548659",
         "125.4860493182356",
         "10.150037777718726"
        ],
        [
         "min",
         "2017.0",
         "1.0",
         "0.0",
         "0.0",
         "0.0",
         "0.0",
         "0.0",
         "0.0",
         "0.0"
        ],
        [
         "25%",
         "2017.0",
         "3.75",
         "0.0",
         "0.0",
         "0.0",
         "0.0",
         "0.0",
         "0.0",
         "0.0"
        ],
        [
         "50%",
         "2017.5",
         "6.5",
         "1.0",
         "0.0",
         "1.0",
         "488.0",
         "50.0",
         "0.0",
         "0.0"
        ],
        [
         "75%",
         "2018.0",
         "9.25",
         "8.0",
         "1.0",
         "10.0",
         "2336.0",
         "239.0",
         "0.0",
         "0.0"
        ],
        [
         "max",
         "2018.0",
         "12.0",
         "21.0",
         "11.0",
         "32.0",
         "6293.0",
         "676.5",
         "876.0",
         "71.0"
        ]
       ],
       "shape": {
        "columns": 9,
        "rows": 8
       }
      },
      "text/html": [
       "<div>\n",
       "<style scoped>\n",
       "    .dataframe tbody tr th:only-of-type {\n",
       "        vertical-align: middle;\n",
       "    }\n",
       "\n",
       "    .dataframe tbody tr th {\n",
       "        vertical-align: top;\n",
       "    }\n",
       "\n",
       "    .dataframe thead th {\n",
       "        text-align: right;\n",
       "    }\n",
       "</style>\n",
       "<table border=\"1\" class=\"dataframe\">\n",
       "  <thead>\n",
       "    <tr style=\"text-align: right;\">\n",
       "      <th></th>\n",
       "      <th>Year</th>\n",
       "      <th>Month</th>\n",
       "      <th>Flights Booked</th>\n",
       "      <th>Flights with Companions</th>\n",
       "      <th>Total Flights</th>\n",
       "      <th>Distance</th>\n",
       "      <th>Points Accumulated</th>\n",
       "      <th>Points Redeemed</th>\n",
       "      <th>Dollar Cost Points Redeemed</th>\n",
       "    </tr>\n",
       "  </thead>\n",
       "  <tbody>\n",
       "    <tr>\n",
       "      <th>count</th>\n",
       "      <td>405624.000000</td>\n",
       "      <td>405624.000000</td>\n",
       "      <td>405624.000000</td>\n",
       "      <td>405624.000000</td>\n",
       "      <td>405624.000000</td>\n",
       "      <td>405624.000000</td>\n",
       "      <td>405624.000000</td>\n",
       "      <td>405624.000000</td>\n",
       "      <td>405624.000000</td>\n",
       "    </tr>\n",
       "    <tr>\n",
       "      <th>mean</th>\n",
       "      <td>2017.500000</td>\n",
       "      <td>6.500000</td>\n",
       "      <td>4.115052</td>\n",
       "      <td>1.031805</td>\n",
       "      <td>5.146858</td>\n",
       "      <td>1208.880059</td>\n",
       "      <td>123.692721</td>\n",
       "      <td>30.696872</td>\n",
       "      <td>2.484503</td>\n",
       "    </tr>\n",
       "    <tr>\n",
       "      <th>std</th>\n",
       "      <td>0.500001</td>\n",
       "      <td>3.452057</td>\n",
       "      <td>5.225518</td>\n",
       "      <td>2.076869</td>\n",
       "      <td>6.521227</td>\n",
       "      <td>1433.155320</td>\n",
       "      <td>146.599831</td>\n",
       "      <td>125.486049</td>\n",
       "      <td>10.150038</td>\n",
       "    </tr>\n",
       "    <tr>\n",
       "      <th>min</th>\n",
       "      <td>2017.000000</td>\n",
       "      <td>1.000000</td>\n",
       "      <td>0.000000</td>\n",
       "      <td>0.000000</td>\n",
       "      <td>0.000000</td>\n",
       "      <td>0.000000</td>\n",
       "      <td>0.000000</td>\n",
       "      <td>0.000000</td>\n",
       "      <td>0.000000</td>\n",
       "    </tr>\n",
       "    <tr>\n",
       "      <th>25%</th>\n",
       "      <td>2017.000000</td>\n",
       "      <td>3.750000</td>\n",
       "      <td>0.000000</td>\n",
       "      <td>0.000000</td>\n",
       "      <td>0.000000</td>\n",
       "      <td>0.000000</td>\n",
       "      <td>0.000000</td>\n",
       "      <td>0.000000</td>\n",
       "      <td>0.000000</td>\n",
       "    </tr>\n",
       "    <tr>\n",
       "      <th>50%</th>\n",
       "      <td>2017.500000</td>\n",
       "      <td>6.500000</td>\n",
       "      <td>1.000000</td>\n",
       "      <td>0.000000</td>\n",
       "      <td>1.000000</td>\n",
       "      <td>488.000000</td>\n",
       "      <td>50.000000</td>\n",
       "      <td>0.000000</td>\n",
       "      <td>0.000000</td>\n",
       "    </tr>\n",
       "    <tr>\n",
       "      <th>75%</th>\n",
       "      <td>2018.000000</td>\n",
       "      <td>9.250000</td>\n",
       "      <td>8.000000</td>\n",
       "      <td>1.000000</td>\n",
       "      <td>10.000000</td>\n",
       "      <td>2336.000000</td>\n",
       "      <td>239.000000</td>\n",
       "      <td>0.000000</td>\n",
       "      <td>0.000000</td>\n",
       "    </tr>\n",
       "    <tr>\n",
       "      <th>max</th>\n",
       "      <td>2018.000000</td>\n",
       "      <td>12.000000</td>\n",
       "      <td>21.000000</td>\n",
       "      <td>11.000000</td>\n",
       "      <td>32.000000</td>\n",
       "      <td>6293.000000</td>\n",
       "      <td>676.500000</td>\n",
       "      <td>876.000000</td>\n",
       "      <td>71.000000</td>\n",
       "    </tr>\n",
       "  </tbody>\n",
       "</table>\n",
       "</div>"
      ],
      "text/plain": [
       "                Year          Month  Flights Booked  Flights with Companions  \\\n",
       "count  405624.000000  405624.000000   405624.000000            405624.000000   \n",
       "mean     2017.500000       6.500000        4.115052                 1.031805   \n",
       "std         0.500001       3.452057        5.225518                 2.076869   \n",
       "min      2017.000000       1.000000        0.000000                 0.000000   \n",
       "25%      2017.000000       3.750000        0.000000                 0.000000   \n",
       "50%      2017.500000       6.500000        1.000000                 0.000000   \n",
       "75%      2018.000000       9.250000        8.000000                 1.000000   \n",
       "max      2018.000000      12.000000       21.000000                11.000000   \n",
       "\n",
       "       Total Flights       Distance  Points Accumulated  Points Redeemed  \\\n",
       "count  405624.000000  405624.000000       405624.000000    405624.000000   \n",
       "mean        5.146858    1208.880059          123.692721        30.696872   \n",
       "std         6.521227    1433.155320          146.599831       125.486049   \n",
       "min         0.000000       0.000000            0.000000         0.000000   \n",
       "25%         0.000000       0.000000            0.000000         0.000000   \n",
       "50%         1.000000     488.000000           50.000000         0.000000   \n",
       "75%        10.000000    2336.000000          239.000000         0.000000   \n",
       "max        32.000000    6293.000000          676.500000       876.000000   \n",
       "\n",
       "       Dollar Cost Points Redeemed  \n",
       "count                405624.000000  \n",
       "mean                      2.484503  \n",
       "std                      10.150038  \n",
       "min                       0.000000  \n",
       "25%                       0.000000  \n",
       "50%                       0.000000  \n",
       "75%                       0.000000  \n",
       "max                      71.000000  "
      ]
     },
     "metadata": {},
     "output_type": "display_data"
    },
    {
     "name": "stdout",
     "output_type": "stream",
     "text": [
      "🔤 Descripción de columnas categóricas:\n",
      "🚫 Valores nulos por columna:\n"
     ]
    },
    {
     "data": {
      "application/vnd.microsoft.datawrangler.viewer.v0+json": {
       "columns": [
        {
         "name": "index",
         "rawType": "object",
         "type": "string"
        },
        {
         "name": "0",
         "rawType": "int64",
         "type": "integer"
        }
       ],
       "ref": "6eda4ed7-085e-4d06-9cc7-384e45afe74c",
       "rows": [
        [
         "Year",
         "0"
        ],
        [
         "Month",
         "0"
        ],
        [
         "Flights Booked",
         "0"
        ],
        [
         "Flights with Companions",
         "0"
        ],
        [
         "Total Flights",
         "0"
        ],
        [
         "Distance",
         "0"
        ],
        [
         "Points Accumulated",
         "0"
        ],
        [
         "Points Redeemed",
         "0"
        ],
        [
         "Dollar Cost Points Redeemed",
         "0"
        ]
       ],
       "shape": {
        "columns": 1,
        "rows": 9
       }
      },
      "text/plain": [
       "Year                           0\n",
       "Month                          0\n",
       "Flights Booked                 0\n",
       "Flights with Companions        0\n",
       "Total Flights                  0\n",
       "Distance                       0\n",
       "Points Accumulated             0\n",
       "Points Redeemed                0\n",
       "Dollar Cost Points Redeemed    0\n",
       "dtype: int64"
      ]
     },
     "metadata": {},
     "output_type": "display_data"
    },
    {
     "name": "stdout",
     "output_type": "stream",
     "text": [
      "📎 Filas duplicadas:\n",
      "Duplicadas: 228705\n",
      "Ejemplo de duplicados:\n",
      "                Year  Month  Flights Booked  Flights with Companions  \\\n",
      "Loyalty Number                                                         \n",
      "100272          2017      1               0                        0   \n",
      "100301          2017      1               0                        0   \n",
      "100364          2017      1               0                        0   \n",
      "100380          2017      1               0                        0   \n",
      "100504          2017      1               0                        0   \n",
      "\n",
      "                Total Flights  Distance  Points Accumulated  Points Redeemed  \\\n",
      "Loyalty Number                                                                 \n",
      "100272                      0         0                 0.0                0   \n",
      "100301                      0         0                 0.0                0   \n",
      "100364                      0         0                 0.0                0   \n",
      "100380                      0         0                 0.0                0   \n",
      "100504                      0         0                 0.0                0   \n",
      "\n",
      "                Dollar Cost Points Redeemed  \n",
      "Loyalty Number                               \n",
      "100272                                    0  \n",
      "100301                                    0  \n",
      "100364                                    0  \n",
      "100380                                    0  \n",
      "100504                                    0   \n",
      "\n"
     ]
    }
   ],
   "source": [
    "eda_basico(df_fa)"
   ]
  },
  {
   "cell_type": "code",
   "execution_count": 8,
   "id": "22d4a4b3",
   "metadata": {},
   "outputs": [
    {
     "name": "stdout",
     "output_type": "stream",
     "text": [
      "🔍 Primeras filas del DataFrame:\n"
     ]
    },
    {
     "data": {
      "application/vnd.microsoft.datawrangler.viewer.v0+json": {
       "columns": [
        {
         "name": "Loyalty Number",
         "rawType": "int64",
         "type": "integer"
        },
        {
         "name": "Country",
         "rawType": "object",
         "type": "string"
        },
        {
         "name": "Province",
         "rawType": "object",
         "type": "string"
        },
        {
         "name": "City",
         "rawType": "object",
         "type": "string"
        },
        {
         "name": "Postal Code",
         "rawType": "object",
         "type": "string"
        },
        {
         "name": "Gender",
         "rawType": "object",
         "type": "string"
        },
        {
         "name": "Education",
         "rawType": "object",
         "type": "string"
        },
        {
         "name": "Salary",
         "rawType": "float64",
         "type": "float"
        },
        {
         "name": "Marital Status",
         "rawType": "object",
         "type": "string"
        },
        {
         "name": "Loyalty Card",
         "rawType": "object",
         "type": "string"
        },
        {
         "name": "CLV",
         "rawType": "float64",
         "type": "float"
        },
        {
         "name": "Enrollment Type",
         "rawType": "object",
         "type": "string"
        },
        {
         "name": "Enrollment Year",
         "rawType": "int64",
         "type": "integer"
        },
        {
         "name": "Enrollment Month",
         "rawType": "int64",
         "type": "integer"
        },
        {
         "name": "Cancellation Year",
         "rawType": "float64",
         "type": "float"
        },
        {
         "name": "Cancellation Month",
         "rawType": "float64",
         "type": "float"
        }
       ],
       "ref": "1f812124-1cd5-4111-b1e9-705f5b842896",
       "rows": [
        [
         "480934",
         "Canada",
         "Ontario",
         "Toronto",
         "M2Z 4K1",
         "Female",
         "Bachelor",
         "83236.0",
         "Married",
         "Star",
         "3839.14",
         "Standard",
         "2016",
         "2",
         null,
         null
        ],
        [
         "549612",
         "Canada",
         "Alberta",
         "Edmonton",
         "T3G 6Y6",
         "Male",
         "College",
         null,
         "Divorced",
         "Star",
         "3839.61",
         "Standard",
         "2016",
         "3",
         null,
         null
        ],
        [
         "429460",
         "Canada",
         "British Columbia",
         "Vancouver",
         "V6E 3D9",
         "Male",
         "College",
         null,
         "Single",
         "Star",
         "3839.75",
         "Standard",
         "2014",
         "7",
         "2018.0",
         "1.0"
        ],
        [
         "608370",
         "Canada",
         "Ontario",
         "Toronto",
         "P1W 1K4",
         "Male",
         "College",
         null,
         "Single",
         "Star",
         "3839.75",
         "Standard",
         "2013",
         "2",
         null,
         null
        ],
        [
         "530508",
         "Canada",
         "Quebec",
         "Hull",
         "J8Y 3Z5",
         "Male",
         "Bachelor",
         "103495.0",
         "Married",
         "Star",
         "3842.79",
         "Standard",
         "2014",
         "10",
         null,
         null
        ]
       ],
       "shape": {
        "columns": 15,
        "rows": 5
       }
      },
      "text/html": [
       "<div>\n",
       "<style scoped>\n",
       "    .dataframe tbody tr th:only-of-type {\n",
       "        vertical-align: middle;\n",
       "    }\n",
       "\n",
       "    .dataframe tbody tr th {\n",
       "        vertical-align: top;\n",
       "    }\n",
       "\n",
       "    .dataframe thead th {\n",
       "        text-align: right;\n",
       "    }\n",
       "</style>\n",
       "<table border=\"1\" class=\"dataframe\">\n",
       "  <thead>\n",
       "    <tr style=\"text-align: right;\">\n",
       "      <th></th>\n",
       "      <th>Country</th>\n",
       "      <th>Province</th>\n",
       "      <th>City</th>\n",
       "      <th>Postal Code</th>\n",
       "      <th>Gender</th>\n",
       "      <th>Education</th>\n",
       "      <th>Salary</th>\n",
       "      <th>Marital Status</th>\n",
       "      <th>Loyalty Card</th>\n",
       "      <th>CLV</th>\n",
       "      <th>Enrollment Type</th>\n",
       "      <th>Enrollment Year</th>\n",
       "      <th>Enrollment Month</th>\n",
       "      <th>Cancellation Year</th>\n",
       "      <th>Cancellation Month</th>\n",
       "    </tr>\n",
       "    <tr>\n",
       "      <th>Loyalty Number</th>\n",
       "      <th></th>\n",
       "      <th></th>\n",
       "      <th></th>\n",
       "      <th></th>\n",
       "      <th></th>\n",
       "      <th></th>\n",
       "      <th></th>\n",
       "      <th></th>\n",
       "      <th></th>\n",
       "      <th></th>\n",
       "      <th></th>\n",
       "      <th></th>\n",
       "      <th></th>\n",
       "      <th></th>\n",
       "      <th></th>\n",
       "    </tr>\n",
       "  </thead>\n",
       "  <tbody>\n",
       "    <tr>\n",
       "      <th>480934</th>\n",
       "      <td>Canada</td>\n",
       "      <td>Ontario</td>\n",
       "      <td>Toronto</td>\n",
       "      <td>M2Z 4K1</td>\n",
       "      <td>Female</td>\n",
       "      <td>Bachelor</td>\n",
       "      <td>83236.0</td>\n",
       "      <td>Married</td>\n",
       "      <td>Star</td>\n",
       "      <td>3839.14</td>\n",
       "      <td>Standard</td>\n",
       "      <td>2016</td>\n",
       "      <td>2</td>\n",
       "      <td>NaN</td>\n",
       "      <td>NaN</td>\n",
       "    </tr>\n",
       "    <tr>\n",
       "      <th>549612</th>\n",
       "      <td>Canada</td>\n",
       "      <td>Alberta</td>\n",
       "      <td>Edmonton</td>\n",
       "      <td>T3G 6Y6</td>\n",
       "      <td>Male</td>\n",
       "      <td>College</td>\n",
       "      <td>NaN</td>\n",
       "      <td>Divorced</td>\n",
       "      <td>Star</td>\n",
       "      <td>3839.61</td>\n",
       "      <td>Standard</td>\n",
       "      <td>2016</td>\n",
       "      <td>3</td>\n",
       "      <td>NaN</td>\n",
       "      <td>NaN</td>\n",
       "    </tr>\n",
       "    <tr>\n",
       "      <th>429460</th>\n",
       "      <td>Canada</td>\n",
       "      <td>British Columbia</td>\n",
       "      <td>Vancouver</td>\n",
       "      <td>V6E 3D9</td>\n",
       "      <td>Male</td>\n",
       "      <td>College</td>\n",
       "      <td>NaN</td>\n",
       "      <td>Single</td>\n",
       "      <td>Star</td>\n",
       "      <td>3839.75</td>\n",
       "      <td>Standard</td>\n",
       "      <td>2014</td>\n",
       "      <td>7</td>\n",
       "      <td>2018.0</td>\n",
       "      <td>1.0</td>\n",
       "    </tr>\n",
       "    <tr>\n",
       "      <th>608370</th>\n",
       "      <td>Canada</td>\n",
       "      <td>Ontario</td>\n",
       "      <td>Toronto</td>\n",
       "      <td>P1W 1K4</td>\n",
       "      <td>Male</td>\n",
       "      <td>College</td>\n",
       "      <td>NaN</td>\n",
       "      <td>Single</td>\n",
       "      <td>Star</td>\n",
       "      <td>3839.75</td>\n",
       "      <td>Standard</td>\n",
       "      <td>2013</td>\n",
       "      <td>2</td>\n",
       "      <td>NaN</td>\n",
       "      <td>NaN</td>\n",
       "    </tr>\n",
       "    <tr>\n",
       "      <th>530508</th>\n",
       "      <td>Canada</td>\n",
       "      <td>Quebec</td>\n",
       "      <td>Hull</td>\n",
       "      <td>J8Y 3Z5</td>\n",
       "      <td>Male</td>\n",
       "      <td>Bachelor</td>\n",
       "      <td>103495.0</td>\n",
       "      <td>Married</td>\n",
       "      <td>Star</td>\n",
       "      <td>3842.79</td>\n",
       "      <td>Standard</td>\n",
       "      <td>2014</td>\n",
       "      <td>10</td>\n",
       "      <td>NaN</td>\n",
       "      <td>NaN</td>\n",
       "    </tr>\n",
       "  </tbody>\n",
       "</table>\n",
       "</div>"
      ],
      "text/plain": [
       "               Country          Province       City Postal Code  Gender  \\\n",
       "Loyalty Number                                                            \n",
       "480934          Canada           Ontario    Toronto     M2Z 4K1  Female   \n",
       "549612          Canada           Alberta   Edmonton     T3G 6Y6    Male   \n",
       "429460          Canada  British Columbia  Vancouver     V6E 3D9    Male   \n",
       "608370          Canada           Ontario    Toronto     P1W 1K4    Male   \n",
       "530508          Canada            Quebec       Hull     J8Y 3Z5    Male   \n",
       "\n",
       "               Education    Salary Marital Status Loyalty Card      CLV  \\\n",
       "Loyalty Number                                                            \n",
       "480934          Bachelor   83236.0        Married         Star  3839.14   \n",
       "549612           College       NaN       Divorced         Star  3839.61   \n",
       "429460           College       NaN         Single         Star  3839.75   \n",
       "608370           College       NaN         Single         Star  3839.75   \n",
       "530508          Bachelor  103495.0        Married         Star  3842.79   \n",
       "\n",
       "               Enrollment Type  Enrollment Year  Enrollment Month  \\\n",
       "Loyalty Number                                                      \n",
       "480934                Standard             2016                 2   \n",
       "549612                Standard             2016                 3   \n",
       "429460                Standard             2014                 7   \n",
       "608370                Standard             2013                 2   \n",
       "530508                Standard             2014                10   \n",
       "\n",
       "                Cancellation Year  Cancellation Month  \n",
       "Loyalty Number                                         \n",
       "480934                        NaN                 NaN  \n",
       "549612                        NaN                 NaN  \n",
       "429460                     2018.0                 1.0  \n",
       "608370                        NaN                 NaN  \n",
       "530508                        NaN                 NaN  "
      ]
     },
     "metadata": {},
     "output_type": "display_data"
    },
    {
     "name": "stdout",
     "output_type": "stream",
     "text": [
      "📐 Dimensiones:\n",
      "(16737, 15) \n",
      "\n",
      "🧠 Información general:\n",
      "<class 'pandas.core.frame.DataFrame'>\n",
      "Index: 16737 entries, 480934 to 652627\n",
      "Data columns (total 15 columns):\n",
      " #   Column              Non-Null Count  Dtype  \n",
      "---  ------              --------------  -----  \n",
      " 0   Country             16737 non-null  object \n",
      " 1   Province            16737 non-null  object \n",
      " 2   City                16737 non-null  object \n",
      " 3   Postal Code         16737 non-null  object \n",
      " 4   Gender              16737 non-null  object \n",
      " 5   Education           16737 non-null  object \n",
      " 6   Salary              12499 non-null  float64\n",
      " 7   Marital Status      16737 non-null  object \n",
      " 8   Loyalty Card        16737 non-null  object \n",
      " 9   CLV                 16737 non-null  float64\n",
      " 10  Enrollment Type     16737 non-null  object \n",
      " 11  Enrollment Year     16737 non-null  int64  \n",
      " 12  Enrollment Month    16737 non-null  int64  \n",
      " 13  Cancellation Year   2067 non-null   float64\n",
      " 14  Cancellation Month  2067 non-null   float64\n",
      "dtypes: float64(4), int64(2), object(9)\n",
      "memory usage: 2.0+ MB\n"
     ]
    },
    {
     "data": {
      "text/plain": [
       "None"
      ]
     },
     "metadata": {},
     "output_type": "display_data"
    },
    {
     "name": "stdout",
     "output_type": "stream",
     "text": [
      "🌑Nombre de las columnas:\n"
     ]
    },
    {
     "data": {
      "text/plain": [
       "Index(['Country', 'Province', 'City', 'Postal Code', 'Gender', 'Education',\n",
       "       'Salary', 'Marital Status', 'Loyalty Card', 'CLV', 'Enrollment Type',\n",
       "       'Enrollment Year', 'Enrollment Month', 'Cancellation Year',\n",
       "       'Cancellation Month'],\n",
       "      dtype='object')"
      ]
     },
     "metadata": {},
     "output_type": "display_data"
    },
    {
     "name": "stdout",
     "output_type": "stream",
     "text": [
      "📊 Tipos de datos por columna:\n",
      "Country                object\n",
      "Province               object\n",
      "City                   object\n",
      "Postal Code            object\n",
      "Gender                 object\n",
      "Education              object\n",
      "Salary                float64\n",
      "Marital Status         object\n",
      "Loyalty Card           object\n",
      "CLV                   float64\n",
      "Enrollment Type        object\n",
      "Enrollment Year         int64\n",
      "Enrollment Month        int64\n",
      "Cancellation Year     float64\n",
      "Cancellation Month    float64\n",
      "dtype: object \n",
      "\n",
      "📉 Descripción de columnas numéricas:\n"
     ]
    },
    {
     "data": {
      "application/vnd.microsoft.datawrangler.viewer.v0+json": {
       "columns": [
        {
         "name": "index",
         "rawType": "object",
         "type": "string"
        },
        {
         "name": "Salary",
         "rawType": "float64",
         "type": "float"
        },
        {
         "name": "CLV",
         "rawType": "float64",
         "type": "float"
        },
        {
         "name": "Enrollment Year",
         "rawType": "float64",
         "type": "float"
        },
        {
         "name": "Enrollment Month",
         "rawType": "float64",
         "type": "float"
        },
        {
         "name": "Cancellation Year",
         "rawType": "float64",
         "type": "float"
        },
        {
         "name": "Cancellation Month",
         "rawType": "float64",
         "type": "float"
        }
       ],
       "ref": "49e21d87-c29a-4b12-b46a-77067a1df834",
       "rows": [
        [
         "count",
         "12499.0",
         "16737.0",
         "16737.0",
         "16737.0",
         "2067.0",
         "2067.0"
        ],
        [
         "mean",
         "79245.6094087527",
         "7988.896535818843",
         "2015.2532114476908",
         "6.669116329091235",
         "2016.5031446540881",
         "6.96274794388002"
        ],
        [
         "std",
         "35008.29728510277",
         "6860.982280053849",
         "1.9791107032479782",
         "3.398957759696981",
         "1.380743230373704",
         "3.45529684378116"
        ],
        [
         "min",
         "-58486.0",
         "1898.01",
         "2012.0",
         "1.0",
         "2013.0",
         "1.0"
        ],
        [
         "25%",
         "59246.5",
         "3980.84",
         "2014.0",
         "4.0",
         "2016.0",
         "4.0"
        ],
        [
         "50%",
         "73455.0",
         "5780.18",
         "2015.0",
         "7.0",
         "2017.0",
         "7.0"
        ],
        [
         "75%",
         "88517.5",
         "8940.58",
         "2017.0",
         "10.0",
         "2018.0",
         "10.0"
        ],
        [
         "max",
         "407228.0",
         "83325.38",
         "2018.0",
         "12.0",
         "2018.0",
         "12.0"
        ]
       ],
       "shape": {
        "columns": 6,
        "rows": 8
       }
      },
      "text/html": [
       "<div>\n",
       "<style scoped>\n",
       "    .dataframe tbody tr th:only-of-type {\n",
       "        vertical-align: middle;\n",
       "    }\n",
       "\n",
       "    .dataframe tbody tr th {\n",
       "        vertical-align: top;\n",
       "    }\n",
       "\n",
       "    .dataframe thead th {\n",
       "        text-align: right;\n",
       "    }\n",
       "</style>\n",
       "<table border=\"1\" class=\"dataframe\">\n",
       "  <thead>\n",
       "    <tr style=\"text-align: right;\">\n",
       "      <th></th>\n",
       "      <th>Salary</th>\n",
       "      <th>CLV</th>\n",
       "      <th>Enrollment Year</th>\n",
       "      <th>Enrollment Month</th>\n",
       "      <th>Cancellation Year</th>\n",
       "      <th>Cancellation Month</th>\n",
       "    </tr>\n",
       "  </thead>\n",
       "  <tbody>\n",
       "    <tr>\n",
       "      <th>count</th>\n",
       "      <td>12499.000000</td>\n",
       "      <td>16737.000000</td>\n",
       "      <td>16737.000000</td>\n",
       "      <td>16737.000000</td>\n",
       "      <td>2067.000000</td>\n",
       "      <td>2067.000000</td>\n",
       "    </tr>\n",
       "    <tr>\n",
       "      <th>mean</th>\n",
       "      <td>79245.609409</td>\n",
       "      <td>7988.896536</td>\n",
       "      <td>2015.253211</td>\n",
       "      <td>6.669116</td>\n",
       "      <td>2016.503145</td>\n",
       "      <td>6.962748</td>\n",
       "    </tr>\n",
       "    <tr>\n",
       "      <th>std</th>\n",
       "      <td>35008.297285</td>\n",
       "      <td>6860.982280</td>\n",
       "      <td>1.979111</td>\n",
       "      <td>3.398958</td>\n",
       "      <td>1.380743</td>\n",
       "      <td>3.455297</td>\n",
       "    </tr>\n",
       "    <tr>\n",
       "      <th>min</th>\n",
       "      <td>-58486.000000</td>\n",
       "      <td>1898.010000</td>\n",
       "      <td>2012.000000</td>\n",
       "      <td>1.000000</td>\n",
       "      <td>2013.000000</td>\n",
       "      <td>1.000000</td>\n",
       "    </tr>\n",
       "    <tr>\n",
       "      <th>25%</th>\n",
       "      <td>59246.500000</td>\n",
       "      <td>3980.840000</td>\n",
       "      <td>2014.000000</td>\n",
       "      <td>4.000000</td>\n",
       "      <td>2016.000000</td>\n",
       "      <td>4.000000</td>\n",
       "    </tr>\n",
       "    <tr>\n",
       "      <th>50%</th>\n",
       "      <td>73455.000000</td>\n",
       "      <td>5780.180000</td>\n",
       "      <td>2015.000000</td>\n",
       "      <td>7.000000</td>\n",
       "      <td>2017.000000</td>\n",
       "      <td>7.000000</td>\n",
       "    </tr>\n",
       "    <tr>\n",
       "      <th>75%</th>\n",
       "      <td>88517.500000</td>\n",
       "      <td>8940.580000</td>\n",
       "      <td>2017.000000</td>\n",
       "      <td>10.000000</td>\n",
       "      <td>2018.000000</td>\n",
       "      <td>10.000000</td>\n",
       "    </tr>\n",
       "    <tr>\n",
       "      <th>max</th>\n",
       "      <td>407228.000000</td>\n",
       "      <td>83325.380000</td>\n",
       "      <td>2018.000000</td>\n",
       "      <td>12.000000</td>\n",
       "      <td>2018.000000</td>\n",
       "      <td>12.000000</td>\n",
       "    </tr>\n",
       "  </tbody>\n",
       "</table>\n",
       "</div>"
      ],
      "text/plain": [
       "              Salary           CLV  Enrollment Year  Enrollment Month  \\\n",
       "count   12499.000000  16737.000000     16737.000000      16737.000000   \n",
       "mean    79245.609409   7988.896536      2015.253211          6.669116   \n",
       "std     35008.297285   6860.982280         1.979111          3.398958   \n",
       "min    -58486.000000   1898.010000      2012.000000          1.000000   \n",
       "25%     59246.500000   3980.840000      2014.000000          4.000000   \n",
       "50%     73455.000000   5780.180000      2015.000000          7.000000   \n",
       "75%     88517.500000   8940.580000      2017.000000         10.000000   \n",
       "max    407228.000000  83325.380000      2018.000000         12.000000   \n",
       "\n",
       "       Cancellation Year  Cancellation Month  \n",
       "count        2067.000000         2067.000000  \n",
       "mean         2016.503145            6.962748  \n",
       "std             1.380743            3.455297  \n",
       "min          2013.000000            1.000000  \n",
       "25%          2016.000000            4.000000  \n",
       "50%          2017.000000            7.000000  \n",
       "75%          2018.000000           10.000000  \n",
       "max          2018.000000           12.000000  "
      ]
     },
     "metadata": {},
     "output_type": "display_data"
    },
    {
     "name": "stdout",
     "output_type": "stream",
     "text": [
      "🔤 Descripción de columnas categóricas:\n"
     ]
    },
    {
     "data": {
      "application/vnd.microsoft.datawrangler.viewer.v0+json": {
       "columns": [
        {
         "name": "index",
         "rawType": "object",
         "type": "string"
        },
        {
         "name": "Country",
         "rawType": "object",
         "type": "unknown"
        },
        {
         "name": "Province",
         "rawType": "object",
         "type": "unknown"
        },
        {
         "name": "City",
         "rawType": "object",
         "type": "unknown"
        },
        {
         "name": "Postal Code",
         "rawType": "object",
         "type": "unknown"
        },
        {
         "name": "Gender",
         "rawType": "object",
         "type": "unknown"
        },
        {
         "name": "Education",
         "rawType": "object",
         "type": "unknown"
        },
        {
         "name": "Marital Status",
         "rawType": "object",
         "type": "unknown"
        },
        {
         "name": "Loyalty Card",
         "rawType": "object",
         "type": "unknown"
        },
        {
         "name": "Enrollment Type",
         "rawType": "object",
         "type": "unknown"
        }
       ],
       "ref": "42039efe-95ba-4e12-bc1e-a87200543f15",
       "rows": [
        [
         "count",
         "16737",
         "16737",
         "16737",
         "16737",
         "16737",
         "16737",
         "16737",
         "16737",
         "16737"
        ],
        [
         "unique",
         "1",
         "11",
         "29",
         "55",
         "2",
         "5",
         "3",
         "3",
         "2"
        ],
        [
         "top",
         "Canada",
         "Ontario",
         "Toronto",
         "V6E 3D9",
         "Female",
         "Bachelor",
         "Married",
         "Star",
         "Standard"
        ],
        [
         "freq",
         "16737",
         "5404",
         "3351",
         "911",
         "8410",
         "10475",
         "9735",
         "7637",
         "15766"
        ]
       ],
       "shape": {
        "columns": 9,
        "rows": 4
       }
      },
      "text/html": [
       "<div>\n",
       "<style scoped>\n",
       "    .dataframe tbody tr th:only-of-type {\n",
       "        vertical-align: middle;\n",
       "    }\n",
       "\n",
       "    .dataframe tbody tr th {\n",
       "        vertical-align: top;\n",
       "    }\n",
       "\n",
       "    .dataframe thead th {\n",
       "        text-align: right;\n",
       "    }\n",
       "</style>\n",
       "<table border=\"1\" class=\"dataframe\">\n",
       "  <thead>\n",
       "    <tr style=\"text-align: right;\">\n",
       "      <th></th>\n",
       "      <th>Country</th>\n",
       "      <th>Province</th>\n",
       "      <th>City</th>\n",
       "      <th>Postal Code</th>\n",
       "      <th>Gender</th>\n",
       "      <th>Education</th>\n",
       "      <th>Marital Status</th>\n",
       "      <th>Loyalty Card</th>\n",
       "      <th>Enrollment Type</th>\n",
       "    </tr>\n",
       "  </thead>\n",
       "  <tbody>\n",
       "    <tr>\n",
       "      <th>count</th>\n",
       "      <td>16737</td>\n",
       "      <td>16737</td>\n",
       "      <td>16737</td>\n",
       "      <td>16737</td>\n",
       "      <td>16737</td>\n",
       "      <td>16737</td>\n",
       "      <td>16737</td>\n",
       "      <td>16737</td>\n",
       "      <td>16737</td>\n",
       "    </tr>\n",
       "    <tr>\n",
       "      <th>unique</th>\n",
       "      <td>1</td>\n",
       "      <td>11</td>\n",
       "      <td>29</td>\n",
       "      <td>55</td>\n",
       "      <td>2</td>\n",
       "      <td>5</td>\n",
       "      <td>3</td>\n",
       "      <td>3</td>\n",
       "      <td>2</td>\n",
       "    </tr>\n",
       "    <tr>\n",
       "      <th>top</th>\n",
       "      <td>Canada</td>\n",
       "      <td>Ontario</td>\n",
       "      <td>Toronto</td>\n",
       "      <td>V6E 3D9</td>\n",
       "      <td>Female</td>\n",
       "      <td>Bachelor</td>\n",
       "      <td>Married</td>\n",
       "      <td>Star</td>\n",
       "      <td>Standard</td>\n",
       "    </tr>\n",
       "    <tr>\n",
       "      <th>freq</th>\n",
       "      <td>16737</td>\n",
       "      <td>5404</td>\n",
       "      <td>3351</td>\n",
       "      <td>911</td>\n",
       "      <td>8410</td>\n",
       "      <td>10475</td>\n",
       "      <td>9735</td>\n",
       "      <td>7637</td>\n",
       "      <td>15766</td>\n",
       "    </tr>\n",
       "  </tbody>\n",
       "</table>\n",
       "</div>"
      ],
      "text/plain": [
       "       Country Province     City Postal Code  Gender Education Marital Status  \\\n",
       "count    16737    16737    16737       16737   16737     16737          16737   \n",
       "unique       1       11       29          55       2         5              3   \n",
       "top     Canada  Ontario  Toronto     V6E 3D9  Female  Bachelor        Married   \n",
       "freq     16737     5404     3351         911    8410     10475           9735   \n",
       "\n",
       "       Loyalty Card Enrollment Type  \n",
       "count         16737           16737  \n",
       "unique            3               2  \n",
       "top            Star        Standard  \n",
       "freq           7637           15766  "
      ]
     },
     "metadata": {},
     "output_type": "display_data"
    },
    {
     "name": "stdout",
     "output_type": "stream",
     "text": [
      "🚫 Valores nulos por columna:\n"
     ]
    },
    {
     "data": {
      "application/vnd.microsoft.datawrangler.viewer.v0+json": {
       "columns": [
        {
         "name": "index",
         "rawType": "object",
         "type": "string"
        },
        {
         "name": "0",
         "rawType": "int64",
         "type": "integer"
        }
       ],
       "ref": "2d32c28b-56e9-4e5e-b811-6bbd26d27457",
       "rows": [
        [
         "Country",
         "0"
        ],
        [
         "Province",
         "0"
        ],
        [
         "City",
         "0"
        ],
        [
         "Postal Code",
         "0"
        ],
        [
         "Gender",
         "0"
        ],
        [
         "Education",
         "0"
        ],
        [
         "Salary",
         "4238"
        ],
        [
         "Marital Status",
         "0"
        ],
        [
         "Loyalty Card",
         "0"
        ],
        [
         "CLV",
         "0"
        ],
        [
         "Enrollment Type",
         "0"
        ],
        [
         "Enrollment Year",
         "0"
        ],
        [
         "Enrollment Month",
         "0"
        ],
        [
         "Cancellation Year",
         "14670"
        ],
        [
         "Cancellation Month",
         "14670"
        ]
       ],
       "shape": {
        "columns": 1,
        "rows": 15
       }
      },
      "text/plain": [
       "Country                   0\n",
       "Province                  0\n",
       "City                      0\n",
       "Postal Code               0\n",
       "Gender                    0\n",
       "Education                 0\n",
       "Salary                 4238\n",
       "Marital Status            0\n",
       "Loyalty Card              0\n",
       "CLV                       0\n",
       "Enrollment Type           0\n",
       "Enrollment Year           0\n",
       "Enrollment Month          0\n",
       "Cancellation Year     14670\n",
       "Cancellation Month    14670\n",
       "dtype: int64"
      ]
     },
     "metadata": {},
     "output_type": "display_data"
    },
    {
     "name": "stdout",
     "output_type": "stream",
     "text": [
      "📎 Filas duplicadas:\n",
      "Duplicadas: 0\n",
      "No hay filas duplicadas.\n",
      "\n"
     ]
    }
   ],
   "source": [
    "eda_basico(df_lh)"
   ]
  },
  {
   "cell_type": "markdown",
   "id": "dd113518",
   "metadata": {},
   "source": [
    "Unión del conjunto de datos en un mismo df, seleccionamos el tipo de unión que mejor corresponde:"
   ]
  },
  {
   "cell_type": "code",
   "execution_count": 9,
   "id": "9a2f7535",
   "metadata": {},
   "outputs": [],
   "source": [
    "# Unión de ambos df por el índice conservando todas las filas de ambos (outer)\n",
    "df= df_fa.join(df_lh, how='outer')"
   ]
  },
  {
   "cell_type": "markdown",
   "id": "3779a744",
   "metadata": {},
   "source": [
    "### 2. Limpieza de Datos:\n",
    "```python"
   ]
  },
  {
   "cell_type": "code",
   "execution_count": 10,
   "id": "8fc455cc",
   "metadata": {},
   "outputs": [
    {
     "name": "stdout",
     "output_type": "stream",
     "text": [
      "🔍 Primeras filas del DataFrame:\n"
     ]
    },
    {
     "data": {
      "application/vnd.microsoft.datawrangler.viewer.v0+json": {
       "columns": [
        {
         "name": "Loyalty Number",
         "rawType": "int64",
         "type": "integer"
        },
        {
         "name": "Year",
         "rawType": "int64",
         "type": "integer"
        },
        {
         "name": "Month",
         "rawType": "int64",
         "type": "integer"
        },
        {
         "name": "Flights Booked",
         "rawType": "int64",
         "type": "integer"
        },
        {
         "name": "Flights with Companions",
         "rawType": "int64",
         "type": "integer"
        },
        {
         "name": "Total Flights",
         "rawType": "int64",
         "type": "integer"
        },
        {
         "name": "Distance",
         "rawType": "int64",
         "type": "integer"
        },
        {
         "name": "Points Accumulated",
         "rawType": "float64",
         "type": "float"
        },
        {
         "name": "Points Redeemed",
         "rawType": "int64",
         "type": "integer"
        },
        {
         "name": "Dollar Cost Points Redeemed",
         "rawType": "int64",
         "type": "integer"
        },
        {
         "name": "Country",
         "rawType": "object",
         "type": "string"
        },
        {
         "name": "Province",
         "rawType": "object",
         "type": "string"
        },
        {
         "name": "City",
         "rawType": "object",
         "type": "string"
        },
        {
         "name": "Postal Code",
         "rawType": "object",
         "type": "string"
        },
        {
         "name": "Gender",
         "rawType": "object",
         "type": "string"
        },
        {
         "name": "Education",
         "rawType": "object",
         "type": "string"
        },
        {
         "name": "Salary",
         "rawType": "float64",
         "type": "float"
        },
        {
         "name": "Marital Status",
         "rawType": "object",
         "type": "string"
        },
        {
         "name": "Loyalty Card",
         "rawType": "object",
         "type": "string"
        },
        {
         "name": "CLV",
         "rawType": "float64",
         "type": "float"
        },
        {
         "name": "Enrollment Type",
         "rawType": "object",
         "type": "string"
        },
        {
         "name": "Enrollment Year",
         "rawType": "int64",
         "type": "integer"
        },
        {
         "name": "Enrollment Month",
         "rawType": "int64",
         "type": "integer"
        },
        {
         "name": "Cancellation Year",
         "rawType": "float64",
         "type": "float"
        },
        {
         "name": "Cancellation Month",
         "rawType": "float64",
         "type": "float"
        }
       ],
       "ref": "250201ee-1e5b-43c5-b50a-9d0af7b3d982",
       "rows": [
        [
         "100018",
         "2017",
         "1",
         "3",
         "0",
         "3",
         "1521",
         "152.0",
         "0",
         "0",
         "Canada",
         "Alberta",
         "Edmonton",
         "T9G 1W3",
         "Female",
         "Bachelor",
         "92552.0",
         "Married",
         "Aurora",
         "7919.2",
         "Standard",
         "2016",
         "8",
         null,
         null
        ],
        [
         "100018",
         "2017",
         "2",
         "2",
         "2",
         "4",
         "1320",
         "132.0",
         "0",
         "0",
         "Canada",
         "Alberta",
         "Edmonton",
         "T9G 1W3",
         "Female",
         "Bachelor",
         "92552.0",
         "Married",
         "Aurora",
         "7919.2",
         "Standard",
         "2016",
         "8",
         null,
         null
        ],
        [
         "100018",
         "2018",
         "10",
         "6",
         "4",
         "10",
         "3110",
         "311.0",
         "385",
         "31",
         "Canada",
         "Alberta",
         "Edmonton",
         "T9G 1W3",
         "Female",
         "Bachelor",
         "92552.0",
         "Married",
         "Aurora",
         "7919.2",
         "Standard",
         "2016",
         "8",
         null,
         null
        ],
        [
         "100018",
         "2017",
         "4",
         "4",
         "0",
         "4",
         "924",
         "92.0",
         "0",
         "0",
         "Canada",
         "Alberta",
         "Edmonton",
         "T9G 1W3",
         "Female",
         "Bachelor",
         "92552.0",
         "Married",
         "Aurora",
         "7919.2",
         "Standard",
         "2016",
         "8",
         null,
         null
        ],
        [
         "100018",
         "2017",
         "5",
         "0",
         "0",
         "0",
         "0",
         "0.0",
         "0",
         "0",
         "Canada",
         "Alberta",
         "Edmonton",
         "T9G 1W3",
         "Female",
         "Bachelor",
         "92552.0",
         "Married",
         "Aurora",
         "7919.2",
         "Standard",
         "2016",
         "8",
         null,
         null
        ]
       ],
       "shape": {
        "columns": 24,
        "rows": 5
       }
      },
      "text/html": [
       "<div>\n",
       "<style scoped>\n",
       "    .dataframe tbody tr th:only-of-type {\n",
       "        vertical-align: middle;\n",
       "    }\n",
       "\n",
       "    .dataframe tbody tr th {\n",
       "        vertical-align: top;\n",
       "    }\n",
       "\n",
       "    .dataframe thead th {\n",
       "        text-align: right;\n",
       "    }\n",
       "</style>\n",
       "<table border=\"1\" class=\"dataframe\">\n",
       "  <thead>\n",
       "    <tr style=\"text-align: right;\">\n",
       "      <th></th>\n",
       "      <th>Year</th>\n",
       "      <th>Month</th>\n",
       "      <th>Flights Booked</th>\n",
       "      <th>Flights with Companions</th>\n",
       "      <th>Total Flights</th>\n",
       "      <th>Distance</th>\n",
       "      <th>Points Accumulated</th>\n",
       "      <th>Points Redeemed</th>\n",
       "      <th>Dollar Cost Points Redeemed</th>\n",
       "      <th>Country</th>\n",
       "      <th>Province</th>\n",
       "      <th>City</th>\n",
       "      <th>Postal Code</th>\n",
       "      <th>Gender</th>\n",
       "      <th>Education</th>\n",
       "      <th>Salary</th>\n",
       "      <th>Marital Status</th>\n",
       "      <th>Loyalty Card</th>\n",
       "      <th>CLV</th>\n",
       "      <th>Enrollment Type</th>\n",
       "      <th>Enrollment Year</th>\n",
       "      <th>Enrollment Month</th>\n",
       "      <th>Cancellation Year</th>\n",
       "      <th>Cancellation Month</th>\n",
       "    </tr>\n",
       "    <tr>\n",
       "      <th>Loyalty Number</th>\n",
       "      <th></th>\n",
       "      <th></th>\n",
       "      <th></th>\n",
       "      <th></th>\n",
       "      <th></th>\n",
       "      <th></th>\n",
       "      <th></th>\n",
       "      <th></th>\n",
       "      <th></th>\n",
       "      <th></th>\n",
       "      <th></th>\n",
       "      <th></th>\n",
       "      <th></th>\n",
       "      <th></th>\n",
       "      <th></th>\n",
       "      <th></th>\n",
       "      <th></th>\n",
       "      <th></th>\n",
       "      <th></th>\n",
       "      <th></th>\n",
       "      <th></th>\n",
       "      <th></th>\n",
       "      <th></th>\n",
       "      <th></th>\n",
       "    </tr>\n",
       "  </thead>\n",
       "  <tbody>\n",
       "    <tr>\n",
       "      <th>100018</th>\n",
       "      <td>2017</td>\n",
       "      <td>1</td>\n",
       "      <td>3</td>\n",
       "      <td>0</td>\n",
       "      <td>3</td>\n",
       "      <td>1521</td>\n",
       "      <td>152.0</td>\n",
       "      <td>0</td>\n",
       "      <td>0</td>\n",
       "      <td>Canada</td>\n",
       "      <td>Alberta</td>\n",
       "      <td>Edmonton</td>\n",
       "      <td>T9G 1W3</td>\n",
       "      <td>Female</td>\n",
       "      <td>Bachelor</td>\n",
       "      <td>92552.0</td>\n",
       "      <td>Married</td>\n",
       "      <td>Aurora</td>\n",
       "      <td>7919.2</td>\n",
       "      <td>Standard</td>\n",
       "      <td>2016</td>\n",
       "      <td>8</td>\n",
       "      <td>NaN</td>\n",
       "      <td>NaN</td>\n",
       "    </tr>\n",
       "    <tr>\n",
       "      <th>100018</th>\n",
       "      <td>2017</td>\n",
       "      <td>2</td>\n",
       "      <td>2</td>\n",
       "      <td>2</td>\n",
       "      <td>4</td>\n",
       "      <td>1320</td>\n",
       "      <td>132.0</td>\n",
       "      <td>0</td>\n",
       "      <td>0</td>\n",
       "      <td>Canada</td>\n",
       "      <td>Alberta</td>\n",
       "      <td>Edmonton</td>\n",
       "      <td>T9G 1W3</td>\n",
       "      <td>Female</td>\n",
       "      <td>Bachelor</td>\n",
       "      <td>92552.0</td>\n",
       "      <td>Married</td>\n",
       "      <td>Aurora</td>\n",
       "      <td>7919.2</td>\n",
       "      <td>Standard</td>\n",
       "      <td>2016</td>\n",
       "      <td>8</td>\n",
       "      <td>NaN</td>\n",
       "      <td>NaN</td>\n",
       "    </tr>\n",
       "    <tr>\n",
       "      <th>100018</th>\n",
       "      <td>2018</td>\n",
       "      <td>10</td>\n",
       "      <td>6</td>\n",
       "      <td>4</td>\n",
       "      <td>10</td>\n",
       "      <td>3110</td>\n",
       "      <td>311.0</td>\n",
       "      <td>385</td>\n",
       "      <td>31</td>\n",
       "      <td>Canada</td>\n",
       "      <td>Alberta</td>\n",
       "      <td>Edmonton</td>\n",
       "      <td>T9G 1W3</td>\n",
       "      <td>Female</td>\n",
       "      <td>Bachelor</td>\n",
       "      <td>92552.0</td>\n",
       "      <td>Married</td>\n",
       "      <td>Aurora</td>\n",
       "      <td>7919.2</td>\n",
       "      <td>Standard</td>\n",
       "      <td>2016</td>\n",
       "      <td>8</td>\n",
       "      <td>NaN</td>\n",
       "      <td>NaN</td>\n",
       "    </tr>\n",
       "    <tr>\n",
       "      <th>100018</th>\n",
       "      <td>2017</td>\n",
       "      <td>4</td>\n",
       "      <td>4</td>\n",
       "      <td>0</td>\n",
       "      <td>4</td>\n",
       "      <td>924</td>\n",
       "      <td>92.0</td>\n",
       "      <td>0</td>\n",
       "      <td>0</td>\n",
       "      <td>Canada</td>\n",
       "      <td>Alberta</td>\n",
       "      <td>Edmonton</td>\n",
       "      <td>T9G 1W3</td>\n",
       "      <td>Female</td>\n",
       "      <td>Bachelor</td>\n",
       "      <td>92552.0</td>\n",
       "      <td>Married</td>\n",
       "      <td>Aurora</td>\n",
       "      <td>7919.2</td>\n",
       "      <td>Standard</td>\n",
       "      <td>2016</td>\n",
       "      <td>8</td>\n",
       "      <td>NaN</td>\n",
       "      <td>NaN</td>\n",
       "    </tr>\n",
       "    <tr>\n",
       "      <th>100018</th>\n",
       "      <td>2017</td>\n",
       "      <td>5</td>\n",
       "      <td>0</td>\n",
       "      <td>0</td>\n",
       "      <td>0</td>\n",
       "      <td>0</td>\n",
       "      <td>0.0</td>\n",
       "      <td>0</td>\n",
       "      <td>0</td>\n",
       "      <td>Canada</td>\n",
       "      <td>Alberta</td>\n",
       "      <td>Edmonton</td>\n",
       "      <td>T9G 1W3</td>\n",
       "      <td>Female</td>\n",
       "      <td>Bachelor</td>\n",
       "      <td>92552.0</td>\n",
       "      <td>Married</td>\n",
       "      <td>Aurora</td>\n",
       "      <td>7919.2</td>\n",
       "      <td>Standard</td>\n",
       "      <td>2016</td>\n",
       "      <td>8</td>\n",
       "      <td>NaN</td>\n",
       "      <td>NaN</td>\n",
       "    </tr>\n",
       "  </tbody>\n",
       "</table>\n",
       "</div>"
      ],
      "text/plain": [
       "                Year  Month  Flights Booked  Flights with Companions  \\\n",
       "Loyalty Number                                                         \n",
       "100018          2017      1               3                        0   \n",
       "100018          2017      2               2                        2   \n",
       "100018          2018     10               6                        4   \n",
       "100018          2017      4               4                        0   \n",
       "100018          2017      5               0                        0   \n",
       "\n",
       "                Total Flights  Distance  Points Accumulated  Points Redeemed  \\\n",
       "Loyalty Number                                                                 \n",
       "100018                      3      1521               152.0                0   \n",
       "100018                      4      1320               132.0                0   \n",
       "100018                     10      3110               311.0              385   \n",
       "100018                      4       924                92.0                0   \n",
       "100018                      0         0                 0.0                0   \n",
       "\n",
       "                Dollar Cost Points Redeemed Country Province      City  \\\n",
       "Loyalty Number                                                           \n",
       "100018                                    0  Canada  Alberta  Edmonton   \n",
       "100018                                    0  Canada  Alberta  Edmonton   \n",
       "100018                                   31  Canada  Alberta  Edmonton   \n",
       "100018                                    0  Canada  Alberta  Edmonton   \n",
       "100018                                    0  Canada  Alberta  Edmonton   \n",
       "\n",
       "               Postal Code  Gender Education   Salary Marital Status  \\\n",
       "Loyalty Number                                                         \n",
       "100018             T9G 1W3  Female  Bachelor  92552.0        Married   \n",
       "100018             T9G 1W3  Female  Bachelor  92552.0        Married   \n",
       "100018             T9G 1W3  Female  Bachelor  92552.0        Married   \n",
       "100018             T9G 1W3  Female  Bachelor  92552.0        Married   \n",
       "100018             T9G 1W3  Female  Bachelor  92552.0        Married   \n",
       "\n",
       "               Loyalty Card     CLV Enrollment Type  Enrollment Year  \\\n",
       "Loyalty Number                                                         \n",
       "100018               Aurora  7919.2        Standard             2016   \n",
       "100018               Aurora  7919.2        Standard             2016   \n",
       "100018               Aurora  7919.2        Standard             2016   \n",
       "100018               Aurora  7919.2        Standard             2016   \n",
       "100018               Aurora  7919.2        Standard             2016   \n",
       "\n",
       "                Enrollment Month  Cancellation Year  Cancellation Month  \n",
       "Loyalty Number                                                           \n",
       "100018                         8                NaN                 NaN  \n",
       "100018                         8                NaN                 NaN  \n",
       "100018                         8                NaN                 NaN  \n",
       "100018                         8                NaN                 NaN  \n",
       "100018                         8                NaN                 NaN  "
      ]
     },
     "metadata": {},
     "output_type": "display_data"
    },
    {
     "name": "stdout",
     "output_type": "stream",
     "text": [
      "📐 Dimensiones:\n",
      "(405624, 24) \n",
      "\n",
      "🧠 Información general:\n",
      "<class 'pandas.core.frame.DataFrame'>\n",
      "Index: 405624 entries, 100018 to 999986\n",
      "Data columns (total 24 columns):\n",
      " #   Column                       Non-Null Count   Dtype  \n",
      "---  ------                       --------------   -----  \n",
      " 0   Year                         405624 non-null  int64  \n",
      " 1   Month                        405624 non-null  int64  \n",
      " 2   Flights Booked               405624 non-null  int64  \n",
      " 3   Flights with Companions      405624 non-null  int64  \n",
      " 4   Total Flights                405624 non-null  int64  \n",
      " 5   Distance                     405624 non-null  int64  \n",
      " 6   Points Accumulated           405624 non-null  float64\n",
      " 7   Points Redeemed              405624 non-null  int64  \n",
      " 8   Dollar Cost Points Redeemed  405624 non-null  int64  \n",
      " 9   Country                      405624 non-null  object \n",
      " 10  Province                     405624 non-null  object \n",
      " 11  City                         405624 non-null  object \n",
      " 12  Postal Code                  405624 non-null  object \n",
      " 13  Gender                       405624 non-null  object \n",
      " 14  Education                    405624 non-null  object \n",
      " 15  Salary                       302952 non-null  float64\n",
      " 16  Marital Status               405624 non-null  object \n",
      " 17  Loyalty Card                 405624 non-null  object \n",
      " 18  CLV                          405624 non-null  float64\n",
      " 19  Enrollment Type              405624 non-null  object \n",
      " 20  Enrollment Year              405624 non-null  int64  \n",
      " 21  Enrollment Month             405624 non-null  int64  \n",
      " 22  Cancellation Year            50064 non-null   float64\n",
      " 23  Cancellation Month           50064 non-null   float64\n",
      "dtypes: float64(5), int64(10), object(9)\n",
      "memory usage: 77.4+ MB\n"
     ]
    },
    {
     "data": {
      "text/plain": [
       "None"
      ]
     },
     "metadata": {},
     "output_type": "display_data"
    },
    {
     "name": "stdout",
     "output_type": "stream",
     "text": [
      "🌑Nombre de las columnas:\n"
     ]
    },
    {
     "data": {
      "text/plain": [
       "Index(['Year', 'Month', 'Flights Booked', 'Flights with Companions',\n",
       "       'Total Flights', 'Distance', 'Points Accumulated', 'Points Redeemed',\n",
       "       'Dollar Cost Points Redeemed', 'Country', 'Province', 'City',\n",
       "       'Postal Code', 'Gender', 'Education', 'Salary', 'Marital Status',\n",
       "       'Loyalty Card', 'CLV', 'Enrollment Type', 'Enrollment Year',\n",
       "       'Enrollment Month', 'Cancellation Year', 'Cancellation Month'],\n",
       "      dtype='object')"
      ]
     },
     "metadata": {},
     "output_type": "display_data"
    },
    {
     "name": "stdout",
     "output_type": "stream",
     "text": [
      "📊 Tipos de datos por columna:\n",
      "Year                             int64\n",
      "Month                            int64\n",
      "Flights Booked                   int64\n",
      "Flights with Companions          int64\n",
      "Total Flights                    int64\n",
      "Distance                         int64\n",
      "Points Accumulated             float64\n",
      "Points Redeemed                  int64\n",
      "Dollar Cost Points Redeemed      int64\n",
      "Country                         object\n",
      "Province                        object\n",
      "City                            object\n",
      "Postal Code                     object\n",
      "Gender                          object\n",
      "Education                       object\n",
      "Salary                         float64\n",
      "Marital Status                  object\n",
      "Loyalty Card                    object\n",
      "CLV                            float64\n",
      "Enrollment Type                 object\n",
      "Enrollment Year                  int64\n",
      "Enrollment Month                 int64\n",
      "Cancellation Year              float64\n",
      "Cancellation Month             float64\n",
      "dtype: object \n",
      "\n",
      "📉 Descripción de columnas numéricas:\n"
     ]
    },
    {
     "data": {
      "application/vnd.microsoft.datawrangler.viewer.v0+json": {
       "columns": [
        {
         "name": "index",
         "rawType": "object",
         "type": "string"
        },
        {
         "name": "Year",
         "rawType": "float64",
         "type": "float"
        },
        {
         "name": "Month",
         "rawType": "float64",
         "type": "float"
        },
        {
         "name": "Flights Booked",
         "rawType": "float64",
         "type": "float"
        },
        {
         "name": "Flights with Companions",
         "rawType": "float64",
         "type": "float"
        },
        {
         "name": "Total Flights",
         "rawType": "float64",
         "type": "float"
        },
        {
         "name": "Distance",
         "rawType": "float64",
         "type": "float"
        },
        {
         "name": "Points Accumulated",
         "rawType": "float64",
         "type": "float"
        },
        {
         "name": "Points Redeemed",
         "rawType": "float64",
         "type": "float"
        },
        {
         "name": "Dollar Cost Points Redeemed",
         "rawType": "float64",
         "type": "float"
        },
        {
         "name": "Salary",
         "rawType": "float64",
         "type": "float"
        },
        {
         "name": "CLV",
         "rawType": "float64",
         "type": "float"
        },
        {
         "name": "Enrollment Year",
         "rawType": "float64",
         "type": "float"
        },
        {
         "name": "Enrollment Month",
         "rawType": "float64",
         "type": "float"
        },
        {
         "name": "Cancellation Year",
         "rawType": "float64",
         "type": "float"
        },
        {
         "name": "Cancellation Month",
         "rawType": "float64",
         "type": "float"
        }
       ],
       "ref": "ba9d4cd6-c1b3-4f95-b440-0668c1ffd69a",
       "rows": [
        [
         "count",
         "405624.0",
         "405624.0",
         "405624.0",
         "405624.0",
         "405624.0",
         "405624.0",
         "405624.0",
         "405624.0",
         "405624.0",
         "302952.0",
         "405624.0",
         "405624.0",
         "405624.0",
         "50064.0",
         "50064.0"
        ],
        [
         "mean",
         "2017.5",
         "6.5",
         "4.115052363765457",
         "1.031805317239611",
         "5.146857681005069",
         "1208.880058872256",
         "123.69272096818729",
         "30.696871979961738",
         "2.484502889375382",
         "79268.82595262615",
         "7991.976225667121",
         "2015.252529436128",
         "6.6680078101887466",
         "2016.4995206136145",
         "6.966442953020135"
        ],
        [
         "std",
         "0.5000006163354788",
         "3.4520567847795607",
         "5.225518362156749",
         "2.076869343864625",
         "6.521227424256667",
         "1433.1553197937922",
         "146.59983145485043",
         "125.48604931831913",
         "10.15003777772194",
         "34992.133508452825",
         "6863.663856845135",
         "1.9794274692066747",
         "3.3997660467201776",
         "1.3843356257198458",
         "3.448299597320086"
        ],
        [
         "min",
         "2017.0",
         "1.0",
         "0.0",
         "0.0",
         "0.0",
         "0.0",
         "0.0",
         "0.0",
         "0.0",
         "-58486.0",
         "1898.01",
         "2012.0",
         "1.0",
         "2013.0",
         "1.0"
        ],
        [
         "25%",
         "2017.0",
         "3.75",
         "0.0",
         "0.0",
         "0.0",
         "0.0",
         "0.0",
         "0.0",
         "0.0",
         "59262.0",
         "3985.32",
         "2014.0",
         "4.0",
         "2016.0",
         "4.0"
        ],
        [
         "50%",
         "2017.5",
         "6.5",
         "1.0",
         "0.0",
         "1.0",
         "488.0",
         "50.0",
         "0.0",
         "0.0",
         "73479.0",
         "5776.34",
         "2015.0",
         "7.0",
         "2017.0",
         "7.0"
        ],
        [
         "75%",
         "2018.0",
         "9.25",
         "8.0",
         "1.0",
         "10.0",
         "2336.0",
         "239.0",
         "0.0",
         "0.0",
         "88612.0",
         "8936.82",
         "2017.0",
         "10.0",
         "2018.0",
         "10.0"
        ],
        [
         "max",
         "2018.0",
         "12.0",
         "21.0",
         "11.0",
         "32.0",
         "6293.0",
         "676.5",
         "876.0",
         "71.0",
         "407228.0",
         "83325.38",
         "2018.0",
         "12.0",
         "2018.0",
         "12.0"
        ]
       ],
       "shape": {
        "columns": 15,
        "rows": 8
       }
      },
      "text/html": [
       "<div>\n",
       "<style scoped>\n",
       "    .dataframe tbody tr th:only-of-type {\n",
       "        vertical-align: middle;\n",
       "    }\n",
       "\n",
       "    .dataframe tbody tr th {\n",
       "        vertical-align: top;\n",
       "    }\n",
       "\n",
       "    .dataframe thead th {\n",
       "        text-align: right;\n",
       "    }\n",
       "</style>\n",
       "<table border=\"1\" class=\"dataframe\">\n",
       "  <thead>\n",
       "    <tr style=\"text-align: right;\">\n",
       "      <th></th>\n",
       "      <th>Year</th>\n",
       "      <th>Month</th>\n",
       "      <th>Flights Booked</th>\n",
       "      <th>Flights with Companions</th>\n",
       "      <th>Total Flights</th>\n",
       "      <th>Distance</th>\n",
       "      <th>Points Accumulated</th>\n",
       "      <th>Points Redeemed</th>\n",
       "      <th>Dollar Cost Points Redeemed</th>\n",
       "      <th>Salary</th>\n",
       "      <th>CLV</th>\n",
       "      <th>Enrollment Year</th>\n",
       "      <th>Enrollment Month</th>\n",
       "      <th>Cancellation Year</th>\n",
       "      <th>Cancellation Month</th>\n",
       "    </tr>\n",
       "  </thead>\n",
       "  <tbody>\n",
       "    <tr>\n",
       "      <th>count</th>\n",
       "      <td>405624.000000</td>\n",
       "      <td>405624.000000</td>\n",
       "      <td>405624.000000</td>\n",
       "      <td>405624.000000</td>\n",
       "      <td>405624.000000</td>\n",
       "      <td>405624.000000</td>\n",
       "      <td>405624.000000</td>\n",
       "      <td>405624.000000</td>\n",
       "      <td>405624.000000</td>\n",
       "      <td>302952.000000</td>\n",
       "      <td>405624.000000</td>\n",
       "      <td>405624.000000</td>\n",
       "      <td>405624.000000</td>\n",
       "      <td>50064.000000</td>\n",
       "      <td>50064.000000</td>\n",
       "    </tr>\n",
       "    <tr>\n",
       "      <th>mean</th>\n",
       "      <td>2017.500000</td>\n",
       "      <td>6.500000</td>\n",
       "      <td>4.115052</td>\n",
       "      <td>1.031805</td>\n",
       "      <td>5.146858</td>\n",
       "      <td>1208.880059</td>\n",
       "      <td>123.692721</td>\n",
       "      <td>30.696872</td>\n",
       "      <td>2.484503</td>\n",
       "      <td>79268.825953</td>\n",
       "      <td>7991.976226</td>\n",
       "      <td>2015.252529</td>\n",
       "      <td>6.668008</td>\n",
       "      <td>2016.499521</td>\n",
       "      <td>6.966443</td>\n",
       "    </tr>\n",
       "    <tr>\n",
       "      <th>std</th>\n",
       "      <td>0.500001</td>\n",
       "      <td>3.452057</td>\n",
       "      <td>5.225518</td>\n",
       "      <td>2.076869</td>\n",
       "      <td>6.521227</td>\n",
       "      <td>1433.155320</td>\n",
       "      <td>146.599831</td>\n",
       "      <td>125.486049</td>\n",
       "      <td>10.150038</td>\n",
       "      <td>34992.133508</td>\n",
       "      <td>6863.663857</td>\n",
       "      <td>1.979427</td>\n",
       "      <td>3.399766</td>\n",
       "      <td>1.384336</td>\n",
       "      <td>3.448300</td>\n",
       "    </tr>\n",
       "    <tr>\n",
       "      <th>min</th>\n",
       "      <td>2017.000000</td>\n",
       "      <td>1.000000</td>\n",
       "      <td>0.000000</td>\n",
       "      <td>0.000000</td>\n",
       "      <td>0.000000</td>\n",
       "      <td>0.000000</td>\n",
       "      <td>0.000000</td>\n",
       "      <td>0.000000</td>\n",
       "      <td>0.000000</td>\n",
       "      <td>-58486.000000</td>\n",
       "      <td>1898.010000</td>\n",
       "      <td>2012.000000</td>\n",
       "      <td>1.000000</td>\n",
       "      <td>2013.000000</td>\n",
       "      <td>1.000000</td>\n",
       "    </tr>\n",
       "    <tr>\n",
       "      <th>25%</th>\n",
       "      <td>2017.000000</td>\n",
       "      <td>3.750000</td>\n",
       "      <td>0.000000</td>\n",
       "      <td>0.000000</td>\n",
       "      <td>0.000000</td>\n",
       "      <td>0.000000</td>\n",
       "      <td>0.000000</td>\n",
       "      <td>0.000000</td>\n",
       "      <td>0.000000</td>\n",
       "      <td>59262.000000</td>\n",
       "      <td>3985.320000</td>\n",
       "      <td>2014.000000</td>\n",
       "      <td>4.000000</td>\n",
       "      <td>2016.000000</td>\n",
       "      <td>4.000000</td>\n",
       "    </tr>\n",
       "    <tr>\n",
       "      <th>50%</th>\n",
       "      <td>2017.500000</td>\n",
       "      <td>6.500000</td>\n",
       "      <td>1.000000</td>\n",
       "      <td>0.000000</td>\n",
       "      <td>1.000000</td>\n",
       "      <td>488.000000</td>\n",
       "      <td>50.000000</td>\n",
       "      <td>0.000000</td>\n",
       "      <td>0.000000</td>\n",
       "      <td>73479.000000</td>\n",
       "      <td>5776.340000</td>\n",
       "      <td>2015.000000</td>\n",
       "      <td>7.000000</td>\n",
       "      <td>2017.000000</td>\n",
       "      <td>7.000000</td>\n",
       "    </tr>\n",
       "    <tr>\n",
       "      <th>75%</th>\n",
       "      <td>2018.000000</td>\n",
       "      <td>9.250000</td>\n",
       "      <td>8.000000</td>\n",
       "      <td>1.000000</td>\n",
       "      <td>10.000000</td>\n",
       "      <td>2336.000000</td>\n",
       "      <td>239.000000</td>\n",
       "      <td>0.000000</td>\n",
       "      <td>0.000000</td>\n",
       "      <td>88612.000000</td>\n",
       "      <td>8936.820000</td>\n",
       "      <td>2017.000000</td>\n",
       "      <td>10.000000</td>\n",
       "      <td>2018.000000</td>\n",
       "      <td>10.000000</td>\n",
       "    </tr>\n",
       "    <tr>\n",
       "      <th>max</th>\n",
       "      <td>2018.000000</td>\n",
       "      <td>12.000000</td>\n",
       "      <td>21.000000</td>\n",
       "      <td>11.000000</td>\n",
       "      <td>32.000000</td>\n",
       "      <td>6293.000000</td>\n",
       "      <td>676.500000</td>\n",
       "      <td>876.000000</td>\n",
       "      <td>71.000000</td>\n",
       "      <td>407228.000000</td>\n",
       "      <td>83325.380000</td>\n",
       "      <td>2018.000000</td>\n",
       "      <td>12.000000</td>\n",
       "      <td>2018.000000</td>\n",
       "      <td>12.000000</td>\n",
       "    </tr>\n",
       "  </tbody>\n",
       "</table>\n",
       "</div>"
      ],
      "text/plain": [
       "                Year          Month  Flights Booked  Flights with Companions  \\\n",
       "count  405624.000000  405624.000000   405624.000000            405624.000000   \n",
       "mean     2017.500000       6.500000        4.115052                 1.031805   \n",
       "std         0.500001       3.452057        5.225518                 2.076869   \n",
       "min      2017.000000       1.000000        0.000000                 0.000000   \n",
       "25%      2017.000000       3.750000        0.000000                 0.000000   \n",
       "50%      2017.500000       6.500000        1.000000                 0.000000   \n",
       "75%      2018.000000       9.250000        8.000000                 1.000000   \n",
       "max      2018.000000      12.000000       21.000000                11.000000   \n",
       "\n",
       "       Total Flights       Distance  Points Accumulated  Points Redeemed  \\\n",
       "count  405624.000000  405624.000000       405624.000000    405624.000000   \n",
       "mean        5.146858    1208.880059          123.692721        30.696872   \n",
       "std         6.521227    1433.155320          146.599831       125.486049   \n",
       "min         0.000000       0.000000            0.000000         0.000000   \n",
       "25%         0.000000       0.000000            0.000000         0.000000   \n",
       "50%         1.000000     488.000000           50.000000         0.000000   \n",
       "75%        10.000000    2336.000000          239.000000         0.000000   \n",
       "max        32.000000    6293.000000          676.500000       876.000000   \n",
       "\n",
       "       Dollar Cost Points Redeemed         Salary            CLV  \\\n",
       "count                405624.000000  302952.000000  405624.000000   \n",
       "mean                      2.484503   79268.825953    7991.976226   \n",
       "std                      10.150038   34992.133508    6863.663857   \n",
       "min                       0.000000  -58486.000000    1898.010000   \n",
       "25%                       0.000000   59262.000000    3985.320000   \n",
       "50%                       0.000000   73479.000000    5776.340000   \n",
       "75%                       0.000000   88612.000000    8936.820000   \n",
       "max                      71.000000  407228.000000   83325.380000   \n",
       "\n",
       "       Enrollment Year  Enrollment Month  Cancellation Year  \\\n",
       "count    405624.000000     405624.000000       50064.000000   \n",
       "mean       2015.252529          6.668008        2016.499521   \n",
       "std           1.979427          3.399766           1.384336   \n",
       "min        2012.000000          1.000000        2013.000000   \n",
       "25%        2014.000000          4.000000        2016.000000   \n",
       "50%        2015.000000          7.000000        2017.000000   \n",
       "75%        2017.000000         10.000000        2018.000000   \n",
       "max        2018.000000         12.000000        2018.000000   \n",
       "\n",
       "       Cancellation Month  \n",
       "count        50064.000000  \n",
       "mean             6.966443  \n",
       "std              3.448300  \n",
       "min              1.000000  \n",
       "25%              4.000000  \n",
       "50%              7.000000  \n",
       "75%             10.000000  \n",
       "max             12.000000  "
      ]
     },
     "metadata": {},
     "output_type": "display_data"
    },
    {
     "name": "stdout",
     "output_type": "stream",
     "text": [
      "🔤 Descripción de columnas categóricas:\n"
     ]
    },
    {
     "data": {
      "application/vnd.microsoft.datawrangler.viewer.v0+json": {
       "columns": [
        {
         "name": "index",
         "rawType": "object",
         "type": "string"
        },
        {
         "name": "Country",
         "rawType": "object",
         "type": "unknown"
        },
        {
         "name": "Province",
         "rawType": "object",
         "type": "unknown"
        },
        {
         "name": "City",
         "rawType": "object",
         "type": "unknown"
        },
        {
         "name": "Postal Code",
         "rawType": "object",
         "type": "unknown"
        },
        {
         "name": "Gender",
         "rawType": "object",
         "type": "unknown"
        },
        {
         "name": "Education",
         "rawType": "object",
         "type": "unknown"
        },
        {
         "name": "Marital Status",
         "rawType": "object",
         "type": "unknown"
        },
        {
         "name": "Loyalty Card",
         "rawType": "object",
         "type": "unknown"
        },
        {
         "name": "Enrollment Type",
         "rawType": "object",
         "type": "unknown"
        }
       ],
       "ref": "aad42637-141f-4def-9a4d-a0a16ecf641f",
       "rows": [
        [
         "count",
         "405624",
         "405624",
         "405624",
         "405624",
         "405624",
         "405624",
         "405624",
         "405624",
         "405624"
        ],
        [
         "unique",
         "1",
         "11",
         "29",
         "55",
         "2",
         "5",
         "3",
         "3",
         "2"
        ],
        [
         "top",
         "Canada",
         "Ontario",
         "Toronto",
         "V6E 3D9",
         "Female",
         "Bachelor",
         "Married",
         "Star",
         "Standard"
        ],
        [
         "freq",
         "405624",
         "130896",
         "81096",
         "21984",
         "203640",
         "253752",
         "235800",
         "184224",
         "382200"
        ]
       ],
       "shape": {
        "columns": 9,
        "rows": 4
       }
      },
      "text/html": [
       "<div>\n",
       "<style scoped>\n",
       "    .dataframe tbody tr th:only-of-type {\n",
       "        vertical-align: middle;\n",
       "    }\n",
       "\n",
       "    .dataframe tbody tr th {\n",
       "        vertical-align: top;\n",
       "    }\n",
       "\n",
       "    .dataframe thead th {\n",
       "        text-align: right;\n",
       "    }\n",
       "</style>\n",
       "<table border=\"1\" class=\"dataframe\">\n",
       "  <thead>\n",
       "    <tr style=\"text-align: right;\">\n",
       "      <th></th>\n",
       "      <th>Country</th>\n",
       "      <th>Province</th>\n",
       "      <th>City</th>\n",
       "      <th>Postal Code</th>\n",
       "      <th>Gender</th>\n",
       "      <th>Education</th>\n",
       "      <th>Marital Status</th>\n",
       "      <th>Loyalty Card</th>\n",
       "      <th>Enrollment Type</th>\n",
       "    </tr>\n",
       "  </thead>\n",
       "  <tbody>\n",
       "    <tr>\n",
       "      <th>count</th>\n",
       "      <td>405624</td>\n",
       "      <td>405624</td>\n",
       "      <td>405624</td>\n",
       "      <td>405624</td>\n",
       "      <td>405624</td>\n",
       "      <td>405624</td>\n",
       "      <td>405624</td>\n",
       "      <td>405624</td>\n",
       "      <td>405624</td>\n",
       "    </tr>\n",
       "    <tr>\n",
       "      <th>unique</th>\n",
       "      <td>1</td>\n",
       "      <td>11</td>\n",
       "      <td>29</td>\n",
       "      <td>55</td>\n",
       "      <td>2</td>\n",
       "      <td>5</td>\n",
       "      <td>3</td>\n",
       "      <td>3</td>\n",
       "      <td>2</td>\n",
       "    </tr>\n",
       "    <tr>\n",
       "      <th>top</th>\n",
       "      <td>Canada</td>\n",
       "      <td>Ontario</td>\n",
       "      <td>Toronto</td>\n",
       "      <td>V6E 3D9</td>\n",
       "      <td>Female</td>\n",
       "      <td>Bachelor</td>\n",
       "      <td>Married</td>\n",
       "      <td>Star</td>\n",
       "      <td>Standard</td>\n",
       "    </tr>\n",
       "    <tr>\n",
       "      <th>freq</th>\n",
       "      <td>405624</td>\n",
       "      <td>130896</td>\n",
       "      <td>81096</td>\n",
       "      <td>21984</td>\n",
       "      <td>203640</td>\n",
       "      <td>253752</td>\n",
       "      <td>235800</td>\n",
       "      <td>184224</td>\n",
       "      <td>382200</td>\n",
       "    </tr>\n",
       "  </tbody>\n",
       "</table>\n",
       "</div>"
      ],
      "text/plain": [
       "       Country Province     City Postal Code  Gender Education Marital Status  \\\n",
       "count   405624   405624   405624      405624  405624    405624         405624   \n",
       "unique       1       11       29          55       2         5              3   \n",
       "top     Canada  Ontario  Toronto     V6E 3D9  Female  Bachelor        Married   \n",
       "freq    405624   130896    81096       21984  203640    253752         235800   \n",
       "\n",
       "       Loyalty Card Enrollment Type  \n",
       "count        405624          405624  \n",
       "unique            3               2  \n",
       "top            Star        Standard  \n",
       "freq         184224          382200  "
      ]
     },
     "metadata": {},
     "output_type": "display_data"
    },
    {
     "name": "stdout",
     "output_type": "stream",
     "text": [
      "🚫 Valores nulos por columna:\n"
     ]
    },
    {
     "data": {
      "application/vnd.microsoft.datawrangler.viewer.v0+json": {
       "columns": [
        {
         "name": "index",
         "rawType": "object",
         "type": "string"
        },
        {
         "name": "0",
         "rawType": "int64",
         "type": "integer"
        }
       ],
       "ref": "c92c5966-d63d-49ec-bc8f-2941d73d8a3d",
       "rows": [
        [
         "Year",
         "0"
        ],
        [
         "Month",
         "0"
        ],
        [
         "Flights Booked",
         "0"
        ],
        [
         "Flights with Companions",
         "0"
        ],
        [
         "Total Flights",
         "0"
        ],
        [
         "Distance",
         "0"
        ],
        [
         "Points Accumulated",
         "0"
        ],
        [
         "Points Redeemed",
         "0"
        ],
        [
         "Dollar Cost Points Redeemed",
         "0"
        ],
        [
         "Country",
         "0"
        ],
        [
         "Province",
         "0"
        ],
        [
         "City",
         "0"
        ],
        [
         "Postal Code",
         "0"
        ],
        [
         "Gender",
         "0"
        ],
        [
         "Education",
         "0"
        ],
        [
         "Salary",
         "102672"
        ],
        [
         "Marital Status",
         "0"
        ],
        [
         "Loyalty Card",
         "0"
        ],
        [
         "CLV",
         "0"
        ],
        [
         "Enrollment Type",
         "0"
        ],
        [
         "Enrollment Year",
         "0"
        ],
        [
         "Enrollment Month",
         "0"
        ],
        [
         "Cancellation Year",
         "355560"
        ],
        [
         "Cancellation Month",
         "355560"
        ]
       ],
       "shape": {
        "columns": 1,
        "rows": 24
       }
      },
      "text/plain": [
       "Year                                0\n",
       "Month                               0\n",
       "Flights Booked                      0\n",
       "Flights with Companions             0\n",
       "Total Flights                       0\n",
       "Distance                            0\n",
       "Points Accumulated                  0\n",
       "Points Redeemed                     0\n",
       "Dollar Cost Points Redeemed         0\n",
       "Country                             0\n",
       "Province                            0\n",
       "City                                0\n",
       "Postal Code                         0\n",
       "Gender                              0\n",
       "Education                           0\n",
       "Salary                         102672\n",
       "Marital Status                      0\n",
       "Loyalty Card                        0\n",
       "CLV                                 0\n",
       "Enrollment Type                     0\n",
       "Enrollment Year                     0\n",
       "Enrollment Month                    0\n",
       "Cancellation Year              355560\n",
       "Cancellation Month             355560\n",
       "dtype: int64"
      ]
     },
     "metadata": {},
     "output_type": "display_data"
    },
    {
     "name": "stdout",
     "output_type": "stream",
     "text": [
      "📎 Filas duplicadas:\n",
      "Duplicadas: 1864\n",
      "Ejemplo de duplicados:\n",
      "                Year  Month  Flights Booked  Flights with Companions  \\\n",
      "Loyalty Number                                                         \n",
      "101902          2017      1               0                        0   \n",
      "101902          2017      2               0                        0   \n",
      "101902          2017      3               0                        0   \n",
      "101902          2017      7               0                        0   \n",
      "101902          2017     12               0                        0   \n",
      "\n",
      "                Total Flights  Distance  Points Accumulated  Points Redeemed  \\\n",
      "Loyalty Number                                                                 \n",
      "101902                      0         0                 0.0                0   \n",
      "101902                      0         0                 0.0                0   \n",
      "101902                      0         0                 0.0                0   \n",
      "101902                      0         0                 0.0                0   \n",
      "101902                      0         0                 0.0                0   \n",
      "\n",
      "                Dollar Cost Points Redeemed Country Province    City  \\\n",
      "Loyalty Number                                                         \n",
      "101902                                    0  Canada  Ontario  London   \n",
      "101902                                    0  Canada  Ontario  London   \n",
      "101902                                    0  Canada  Ontario  London   \n",
      "101902                                    0  Canada  Ontario  London   \n",
      "101902                                    0  Canada  Ontario  London   \n",
      "\n",
      "               Postal Code  Gender Education  Salary Marital Status  \\\n",
      "Loyalty Number                                                        \n",
      "101902             M5B 3E4  Female   College     NaN        Married   \n",
      "101902             M5B 3E4  Female   College     NaN        Married   \n",
      "101902             M5B 3E4  Female   College     NaN        Married   \n",
      "101902             M5B 3E4  Female   College     NaN        Married   \n",
      "101902             M5B 3E4  Female   College     NaN        Married   \n",
      "\n",
      "               Loyalty Card      CLV Enrollment Type  Enrollment Year  \\\n",
      "Loyalty Number                                                          \n",
      "101902               Aurora  6265.34        Standard             2017   \n",
      "101902               Aurora  6265.34        Standard             2017   \n",
      "101902               Aurora  6265.34        Standard             2017   \n",
      "101902               Aurora  6265.34        Standard             2017   \n",
      "101902               Aurora  6265.34        Standard             2017   \n",
      "\n",
      "                Enrollment Month  Cancellation Year  Cancellation Month  \n",
      "Loyalty Number                                                           \n",
      "101902                         1                NaN                 NaN  \n",
      "101902                         1                NaN                 NaN  \n",
      "101902                         1                NaN                 NaN  \n",
      "101902                         1                NaN                 NaN  \n",
      "101902                         1                NaN                 NaN   \n",
      "\n"
     ]
    }
   ],
   "source": [
    "eda_basico(df)"
   ]
  },
  {
   "cell_type": "markdown",
   "id": "fd548738",
   "metadata": {},
   "source": [
    "Eliminar o tratar los valores nulos.\n"
   ]
  },
  {
   "cell_type": "code",
   "execution_count": 11,
   "id": "bb6c17ec",
   "metadata": {},
   "outputs": [
    {
     "data": {
      "application/vnd.microsoft.datawrangler.viewer.v0+json": {
       "columns": [
        {
         "name": "index",
         "rawType": "object",
         "type": "string"
        },
        {
         "name": "0",
         "rawType": "float64",
         "type": "float"
        }
       ],
       "ref": "16f5fdfe-3e15-4a30-9831-1e52d203517a",
       "rows": [
        [
         "Year",
         "0.0"
        ],
        [
         "Month",
         "0.0"
        ],
        [
         "Flights Booked",
         "0.0"
        ],
        [
         "Flights with Companions",
         "0.0"
        ],
        [
         "Total Flights",
         "0.0"
        ],
        [
         "Distance",
         "0.0"
        ],
        [
         "Points Accumulated",
         "0.0"
        ],
        [
         "Points Redeemed",
         "0.0"
        ],
        [
         "Dollar Cost Points Redeemed",
         "0.0"
        ],
        [
         "Country",
         "0.0"
        ],
        [
         "Province",
         "0.0"
        ],
        [
         "City",
         "0.0"
        ],
        [
         "Postal Code",
         "0.0"
        ],
        [
         "Gender",
         "0.0"
        ],
        [
         "Education",
         "0.0"
        ],
        [
         "Salary",
         "25.0"
        ],
        [
         "Marital Status",
         "0.0"
        ],
        [
         "Loyalty Card",
         "0.0"
        ],
        [
         "CLV",
         "0.0"
        ],
        [
         "Enrollment Type",
         "0.0"
        ],
        [
         "Enrollment Year",
         "0.0"
        ],
        [
         "Enrollment Month",
         "0.0"
        ],
        [
         "Cancellation Year",
         "88.0"
        ],
        [
         "Cancellation Month",
         "88.0"
        ]
       ],
       "shape": {
        "columns": 1,
        "rows": 24
       }
      },
      "text/plain": [
       "Year                            0.0\n",
       "Month                           0.0\n",
       "Flights Booked                  0.0\n",
       "Flights with Companions         0.0\n",
       "Total Flights                   0.0\n",
       "Distance                        0.0\n",
       "Points Accumulated              0.0\n",
       "Points Redeemed                 0.0\n",
       "Dollar Cost Points Redeemed     0.0\n",
       "Country                         0.0\n",
       "Province                        0.0\n",
       "City                            0.0\n",
       "Postal Code                     0.0\n",
       "Gender                          0.0\n",
       "Education                       0.0\n",
       "Salary                         25.0\n",
       "Marital Status                  0.0\n",
       "Loyalty Card                    0.0\n",
       "CLV                             0.0\n",
       "Enrollment Type                 0.0\n",
       "Enrollment Year                 0.0\n",
       "Enrollment Month                0.0\n",
       "Cancellation Year              88.0\n",
       "Cancellation Month             88.0\n",
       "dtype: float64"
      ]
     },
     "execution_count": 11,
     "metadata": {},
     "output_type": "execute_result"
    }
   ],
   "source": [
    "# Mostramos el % de nulos por columna:\n",
    "((df.isnull().sum()/len(df))*100).round()"
   ]
  },
  {
   "cell_type": "code",
   "execution_count": 12,
   "id": "9e30972f",
   "metadata": {},
   "outputs": [],
   "source": [
    "# Las columnas Cancellation Year y Cancellation Month tienen un 88% de nulos: las eliminiamos.\n",
    "df= df.drop(columns=['Cancellation Year','Cancellation Month'])"
   ]
  },
  {
   "cell_type": "code",
   "execution_count": 13,
   "id": "c6c15ebf",
   "metadata": {},
   "outputs": [],
   "source": [
    "# Imputamos los nulos de la columna Salary con la mediana porque la distribución es asimétrica:\n",
    "# Paso previo: \n",
    "df['Salary']= df['Salary'].abs()\n",
    "\n",
    "# Imputación:\n",
    "from sklearn.impute import SimpleImputer\n",
    "imputer = SimpleImputer(strategy='median')  \n",
    "df['Salary'] = imputer.fit_transform(df[['Salary']])"
   ]
  },
  {
   "cell_type": "code",
   "execution_count": 14,
   "id": "4eb4ed7d",
   "metadata": {},
   "outputs": [
    {
     "data": {
      "application/vnd.microsoft.datawrangler.viewer.v0+json": {
       "columns": [
        {
         "name": "index",
         "rawType": "object",
         "type": "string"
        },
        {
         "name": "Salary",
         "rawType": "float64",
         "type": "float"
        }
       ],
       "ref": "3407998c-91fa-4064-8e38-f4f70cab0fe3",
       "rows": [
        [
         "count",
         "405624.0"
        ],
        [
         "mean",
         "77887.4079640258"
        ],
        [
         "std",
         "30129.005588995195"
        ],
        [
         "min",
         "9081.0"
        ],
        [
         "25%",
         "63899.0"
        ],
        [
         "50%",
         "73479.0"
        ],
        [
         "75%",
         "82940.0"
        ],
        [
         "max",
         "407228.0"
        ]
       ],
       "shape": {
        "columns": 1,
        "rows": 8
       }
      },
      "text/plain": [
       "count    405624.000000\n",
       "mean      77887.407964\n",
       "std       30129.005589\n",
       "min        9081.000000\n",
       "25%       63899.000000\n",
       "50%       73479.000000\n",
       "75%       82940.000000\n",
       "max      407228.000000\n",
       "Name: Salary, dtype: float64"
      ]
     },
     "execution_count": 14,
     "metadata": {},
     "output_type": "execute_result"
    }
   ],
   "source": [
    "df['Salary'].describe()"
   ]
  },
  {
   "cell_type": "code",
   "execution_count": 15,
   "id": "342e0e5e",
   "metadata": {},
   "outputs": [
    {
     "data": {
      "image/png": "[encoded data removed]",
      "text/plain": [
       "<Figure size 800x500 with 1 Axes>"
      ]
     },
     "metadata": {},
     "output_type": "display_data"
    }
   ],
   "source": [
    "import pandas as pd\n",
    "import matplotlib.pyplot as plt\n",
    "import seaborn as sns\n",
    "\n",
    "plt.figure(figsize=(8,5))\n",
    "sns.histplot(df['Salary'], bins=10, kde=True, color='b')\n",
    "\n",
    "plt.xlabel('Salario')\n",
    "plt.ylabel('Frecuencia')\n",
    "plt.title('Distribución de valores')\n",
    "plt.grid(True)\n",
    "\n",
    "# Mostrar gráfico\n",
    "plt.show()\n"
   ]
  },
  {
   "cell_type": "code",
   "execution_count": 16,
   "id": "9d6eea58",
   "metadata": {},
   "outputs": [
    {
     "data": {
      "text/plain": [
       "0"
      ]
     },
     "execution_count": 16,
     "metadata": {},
     "output_type": "execute_result"
    }
   ],
   "source": [
    "df['Salary'].isnull().sum()"
   ]
  },
  {
   "cell_type": "markdown",
   "id": "7d955ca9",
   "metadata": {},
   "source": [
    "\n",
    "Verificar la consistencia y corrección de los datos para asegurar que los datos se\n",
    "presenten de forma coherente.\n"
   ]
  },
  {
   "cell_type": "code",
   "execution_count": 17,
   "id": "1c340679",
   "metadata": {},
   "outputs": [
    {
     "data": {
      "text/plain": [
       "0"
      ]
     },
     "execution_count": 17,
     "metadata": {},
     "output_type": "execute_result"
    }
   ],
   "source": [
    "# Eliminamos las filas duplicadas:\n",
    "df=df.drop_duplicates()\n",
    "df.duplicated().sum()"
   ]
  },
  {
   "cell_type": "code",
   "execution_count": 18,
   "id": "b3cc1505",
   "metadata": {},
   "outputs": [],
   "source": [
    "# La columna Salary tiene valores negativos, los pasamos a positivos:\n",
    "df['Salary']= df['Salary'].abs()"
   ]
  },
  {
   "cell_type": "markdown",
   "id": "16776f5c",
   "metadata": {},
   "source": [
    "\n",
    "Realiza cualquier ajuste o conversión necesaria en las columnas (por ejemplo, cambiar tipos de\n",
    "datos) para garantizar la adecuación de los datos para el análisis estadístico.\n"
   ]
  },
  {
   "cell_type": "code",
   "execution_count": 19,
   "id": "512f3dbb",
   "metadata": {},
   "outputs": [],
   "source": [
    "# Pasar las columnas Enrollment Year y Enrollment Month a object:\n",
    "df[['Enrollment Year','Enrollment Month']]= df[['Enrollment Year','Enrollment Month']].astype(object)"
   ]
  },
  {
   "cell_type": "code",
   "execution_count": 20,
   "id": "de069727",
   "metadata": {},
   "outputs": [
    {
     "data": {
      "application/vnd.microsoft.datawrangler.viewer.v0+json": {
       "columns": [
        {
         "name": "index",
         "rawType": "object",
         "type": "string"
        },
        {
         "name": "0",
         "rawType": "object",
         "type": "unknown"
        }
       ],
       "ref": "4d0e68aa-9a40-4327-8310-f032a090f85c",
       "rows": [
        [
         "Year",
         "int64"
        ],
        [
         "Month",
         "int64"
        ],
        [
         "Flights Booked",
         "int64"
        ],
        [
         "Flights with Companions",
         "int64"
        ],
        [
         "Total Flights",
         "int64"
        ],
        [
         "Distance",
         "int64"
        ],
        [
         "Points Accumulated",
         "float64"
        ],
        [
         "Points Redeemed",
         "int64"
        ],
        [
         "Dollar Cost Points Redeemed",
         "int64"
        ],
        [
         "Country",
         "object"
        ],
        [
         "Province",
         "object"
        ],
        [
         "City",
         "object"
        ],
        [
         "Postal Code",
         "object"
        ],
        [
         "Gender",
         "object"
        ],
        [
         "Education",
         "object"
        ],
        [
         "Salary",
         "float64"
        ],
        [
         "Marital Status",
         "object"
        ],
        [
         "Loyalty Card",
         "object"
        ],
        [
         "CLV",
         "float64"
        ],
        [
         "Enrollment Type",
         "object"
        ],
        [
         "Enrollment Year",
         "object"
        ],
        [
         "Enrollment Month",
         "object"
        ]
       ],
       "shape": {
        "columns": 1,
        "rows": 22
       }
      },
      "text/plain": [
       "Year                             int64\n",
       "Month                            int64\n",
       "Flights Booked                   int64\n",
       "Flights with Companions          int64\n",
       "Total Flights                    int64\n",
       "Distance                         int64\n",
       "Points Accumulated             float64\n",
       "Points Redeemed                  int64\n",
       "Dollar Cost Points Redeemed      int64\n",
       "Country                         object\n",
       "Province                        object\n",
       "City                            object\n",
       "Postal Code                     object\n",
       "Gender                          object\n",
       "Education                       object\n",
       "Salary                         float64\n",
       "Marital Status                  object\n",
       "Loyalty Card                    object\n",
       "CLV                            float64\n",
       "Enrollment Type                 object\n",
       "Enrollment Year                 object\n",
       "Enrollment Month                object\n",
       "dtype: object"
      ]
     },
     "execution_count": 20,
     "metadata": {},
     "output_type": "execute_result"
    }
   ],
   "source": [
    "df.dtypes"
   ]
  },
  {
   "cell_type": "code",
   "execution_count": 21,
   "id": "0a1c2682",
   "metadata": {},
   "outputs": [],
   "source": [
    "# Pasar la columna Salary a de float a int:\n",
    "df['Salary']=df['Salary'].astype(int)"
   ]
  },
  {
   "cell_type": "markdown",
   "id": "a9a123af",
   "metadata": {},
   "source": [
    "## Fase 2: Visualización\n"
   ]
  },
  {
   "cell_type": "code",
   "execution_count": 22,
   "id": "7e919ac6",
   "metadata": {},
   "outputs": [],
   "source": [
    "# Importamos librerías de visualización:\n",
    "import matplotlib.pyplot as plt\n",
    "import seaborn as sns"
   ]
  },
  {
   "cell_type": "markdown",
   "id": "a05c1da9",
   "metadata": {},
   "source": [
    "#### 1. ¿Cómo se distribuye la cantidad de vuelos reservados por mes durante el año?\n"
   ]
  },
  {
   "cell_type": "markdown",
   "id": "85be5029",
   "metadata": {},
   "source": [
    "Anáisis multivariable de 3 variables numéricas: Year, Month y Flights booked: usamos un gráfico de líneas (lineplot)"
   ]
  },
  {
   "cell_type": "code",
   "execution_count": 23,
   "id": "8cfca7fe",
   "metadata": {},
   "outputs": [
    {
     "data": {
      "image/png": "[encoded data removed]",
      "text/plain": [
       "<Figure size 1200x600 with 1 Axes>"
      ]
     },
     "metadata": {},
     "output_type": "display_data"
    }
   ],
   "source": [
    "# Gráfico de dispersión\n",
    "plt.figure(figsize=(12,6))\n",
    "sns.lineplot( data=df, x='Month', y='Flights Booked', hue='Year', style='Year', palette='coolwarm')\n",
    "\n",
    "plt.xlabel('Mes')\n",
    "plt.ylabel('Cantidad de vuelos reservados')\n",
    "plt.title('Distribución de vuelos reservados por mes')\n",
    "plt.grid(True)\n",
    "plt.xticks(np.arange(df['Month'].min(), df['Month'].max() + 1, 1)) # Establece los valores del eje X con un intervalo de 1 (todos los enteros).\n",
    "\n",
    "# Mostrar gráfico\n",
    "plt.show()"
   ]
  },
  {
   "cell_type": "markdown",
   "id": "602184c1",
   "metadata": {},
   "source": [
    "#### 2. ¿Existe una relación entre la distancia de los vuelos y los puntos acumulados por los cliente?\n"
   ]
  },
  {
   "cell_type": "code",
   "execution_count": 24,
   "id": "c65cebf5",
   "metadata": {},
   "outputs": [
    {
     "data": {
      "image/png": "[encoded data removed]",
      "text/plain": [
       "<Figure size 1200x600 with 1 Axes>"
      ]
     },
     "metadata": {},
     "output_type": "display_data"
    }
   ],
   "source": [
    "\n",
    "# Gráfico de dispersión\n",
    "plt.figure(figsize=(12,6))\n",
    "sns.scatterplot(data=df, x='Distance', y='Points Accumulated',hue='Loyalty Card')\n",
    "\n",
    "plt.xlabel('Distancia')\n",
    "plt.ylabel('Puntos acumulados')\n",
    "plt.title('Relación entre distancia y puntos acumulados')\n",
    "plt.grid(True)\n",
    "\n",
    "# Mostrar gráfico\n",
    "plt.show()"
   ]
  },
  {
   "cell_type": "markdown",
   "id": "bb7e8746",
   "metadata": {},
   "source": [
    "#### 3. ¿Cuál es la distribución de los clientes por provincia o estado?\n"
   ]
  },
  {
   "cell_type": "markdown",
   "id": "fd7f220a",
   "metadata": {},
   "source": [
    "Análisis univariable: Usamos un gráfico de barras (barplot) para visualizar la distribución de los clientes por provincia o estado."
   ]
  },
  {
   "cell_type": "code",
   "execution_count": 25,
   "id": "55cce378",
   "metadata": {},
   "outputs": [
    {
     "data": {
      "image/png": "[encoded data removed]",
      "text/plain": [
       "<Figure size 1200x600 with 1 Axes>"
      ]
     },
     "metadata": {},
     "output_type": "display_data"
    }
   ],
   "source": [
    "\n",
    "# Crear gráfico de barras\n",
    "plt.figure(figsize=(12,6))\n",
    "sns.barplot(data=df, x='Province', y='Loyalty Number', errorbar=None) # Uso el parámetro errorbar para que no ver la raya negra del intervalo de confianza.\n",
    "\n",
    "plt.xlabel('Provincia')\n",
    "plt.ylabel('Cantidad de clientes')\n",
    "plt.title('Distribución de clientes por provincia')\n",
    "plt.xticks(rotation=45)\n",
    "plt.ylim(500000, 600000) \n",
    "\n",
    "# Mostrar gráfico\n",
    "plt.show()"
   ]
  },
  {
   "cell_type": "markdown",
   "id": "e79a95b0",
   "metadata": {},
   "source": [
    "#### 4. ¿Cómo se compara el salario promedio entre los diferentes niveles educativos de los clientes?\n"
   ]
  },
  {
   "cell_type": "markdown",
   "id": "30410413",
   "metadata": {},
   "source": [
    "Análisis bivariable con una columna categórica (Education) y una numérica (Salary): Usamos un barplot para comparar el salario promedio entre los diferentes niveles educativos de los clientes."
   ]
  },
  {
   "cell_type": "code",
   "execution_count": 26,
   "id": "895022e7",
   "metadata": {},
   "outputs": [
    {
     "data": {
      "image/png": "[encoded data removed]",
      "text/plain": [
       "<Figure size 1000x500 with 1 Axes>"
      ]
     },
     "metadata": {},
     "output_type": "display_data"
    }
   ],
   "source": [
    "# Agrupamos el df según la media de salario de los distintos niveles educativos:\n",
    "df_grouped = df.groupby('Education')['Salary'].mean().reset_index()\n",
    "\n",
    "# Crear gráfico de barras\n",
    "plt.figure(figsize=(10,5))\n",
    "sns.barplot(data=df_grouped, x='Education', y='Salary')\n",
    "\n",
    "plt.xlabel('Nivel educativo')\n",
    "plt.ylabel('Salario promedio')\n",
    "plt.title('Comparación del salario promedio por nivel educativo')\n",
    "plt.xticks(rotation=45)\n",
    "\n",
    "\n",
    "plt.show()"
   ]
  },
  {
   "cell_type": "markdown",
   "id": "a31fdefd",
   "metadata": {},
   "source": [
    "#### 5. ¿Cuál es la proporción de clientes con diferentes tipos de tarjetas de fidelidad?\n"
   ]
  },
  {
   "cell_type": "markdown",
   "id": "710beec6",
   "metadata": {},
   "source": [
    "Análisis univariable: Usamos un gráfico de pastel (pie chart) para visualizar la proporción de clientes con diferentes tipos de tarjetas de fidelidad."
   ]
  },
  {
   "cell_type": "code",
   "execution_count": 27,
   "id": "d2566947",
   "metadata": {},
   "outputs": [
    {
     "data": {
      "image/png": "[encoded data removed]",
      "text/plain": [
       "<Figure size 800x600 with 1 Axes>"
      ]
     },
     "metadata": {},
     "output_type": "display_data"
    }
   ],
   "source": [
    "\n",
    "df_grouped = df['Loyalty Card'].value_counts(normalize=True) * 100  # Obtener porcentaje\n",
    "\n",
    "# Crear gráfico de pastel\n",
    "plt.figure(figsize=(8,6))\n",
    "df_grouped.plot(kind='pie', autopct='%1.1f%%')\n",
    "\n",
    "plt.title('Proporción de clientes según tarjeta de fidelidad')\n",
    "plt.ylabel('')  # Ocultar etiqueta del eje Y\n",
    "\n",
    "plt.show()"
   ]
  },
  {
   "cell_type": "markdown",
   "id": "26fbb94f",
   "metadata": {},
   "source": [
    "#### 6. ¿Cómo se distribuyen los clientes según su estado civil y género?\n"
   ]
  },
  {
   "cell_type": "markdown",
   "id": "28b95dca",
   "metadata": {},
   "source": [
    "Análisis bivariable de 2 columnas categóricas: usamos un gráfico de barras agrupadas."
   ]
  },
  {
   "cell_type": "code",
   "execution_count": 28,
   "id": "011209d1",
   "metadata": {},
   "outputs": [
    {
     "data": {
      "image/png": "[encoded data removed]",
      "text/plain": [
       "<Figure size 1200x600 with 1 Axes>"
      ]
     },
     "metadata": {},
     "output_type": "display_data"
    }
   ],
   "source": [
    "df1=df.reset_index()\n",
    "df_grouped = df1.groupby(['Marital Status', 'Gender'])['Loyalty Number'].count().reset_index()\n",
    "\n",
    "# Crear gráfico de barras agrupadas\n",
    "plt.figure(figsize=(12,6))\n",
    "sns.barplot(data=df_grouped, x='Marital Status', y='Loyalty Number', hue='Gender', palette='coolwarm')\n",
    "\n",
    "plt.xlabel('Estado Civil')\n",
    "plt.ylabel('Cantidad de clientes')\n",
    "plt.title('Distribución de clientes según estado civil y género')\n",
    "plt.xticks(rotation=45)\n",
    "\n",
    "\n",
    "plt.show()"
   ]
  }
 ],
 "metadata": {
  "kernelspec": {
   "display_name": "base",
   "language": "python",
   "name": "python3"
  },
  "language_info": {
   "codemirror_mode": {
    "name": "ipython",
    "version": 3
   },
   "file_extension": ".py",
   "mimetype": "text/x-python",
   "name": "python",
   "nbconvert_exporter": "python",
   "pygments_lexer": "ipython3",
   "version": "3.12.4"
  }
 },
 "nbformat": 4,
 "nbformat_minor": 5
}
